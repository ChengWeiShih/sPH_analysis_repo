{
 "cells": [
  {
   "cell_type": "code",
   "execution_count": 1,
   "id": "ad304f65-77a3-4b62-abee-d87624fa264c",
   "metadata": {},
   "outputs": [
    {
     "data": {
      "text/html": [
       "        <script type=\"text/javascript\">\n",
       "        window.PlotlyConfig = {MathJaxConfig: 'local'};\n",
       "        if (window.MathJax && window.MathJax.Hub && window.MathJax.Hub.Config) {window.MathJax.Hub.Config({SVG: {font: \"STIX-Web\"}});}\n",
       "        if (typeof require !== 'undefined') {\n",
       "        require.undef(\"plotly\");\n",
       "        requirejs.config({\n",
       "            paths: {\n",
       "                'plotly': ['https://cdn.plot.ly/plotly-2.16.1.min']\n",
       "            }\n",
       "        });\n",
       "        require(['plotly'], function(Plotly) {\n",
       "            window._Plotly = Plotly;\n",
       "        });\n",
       "        }\n",
       "        </script>\n",
       "        "
      ]
     },
     "metadata": {},
     "output_type": "display_data"
    },
    {
     "name": "stdout",
     "output_type": "stream",
     "text": [
      "Welcome to JupyROOT 6.26/06\n",
      "Python: 3.10.8\n"
     ]
    }
   ],
   "source": [
    "# imports to write dynamic markdown contents\n",
    "import os\n",
    "from IPython.display import display, Markdown, Latex\n",
    "from IPython.display import HTML\n",
    "\n",
    "import pandas as pd\n",
    "from collections import OrderedDict\n",
    "\n",
    "import pprint\n",
    "import re\n",
    "import numpy as np\n",
    "import matplotlib.pyplot as plt\n",
    "import random\n",
    "\n",
    "import plotly.express as px\n",
    "px.defaults.template =  \"plotly_white\"\n",
    "\n",
    "import plotly.graph_objs as go\n",
    "from plotly.offline import init_notebook_mode, iplot\n",
    "import plotly.express as px\n",
    "init_notebook_mode(connected=True)  \n",
    "import glob\n",
    "import uproot \n",
    "import ROOT\n",
    "from tqdm import tqdm\n",
    "\n",
    "\n",
    "import platform\n",
    "print('Python:', platform.python_version())"
   ]
  },
  {
   "cell_type": "code",
   "execution_count": 2,
   "id": "ed0848b8-f5a1-45de-915f-cc6fdd710e7f",
   "metadata": {},
   "outputs": [
    {
     "name": "stdout",
     "output_type": "stream",
     "text": [
      "['/phenix/u/jinhuang/links/sPHENIX_work/Run24/online_monitoring/histograms/Run_54873-TPCMON_12.root',\n",
      " '/phenix/u/jinhuang/links/sPHENIX_work/Run24/online_monitoring/histograms/Run_54873-TPCMON_18.root',\n",
      " '/phenix/u/jinhuang/links/sPHENIX_work/Run24/online_monitoring/histograms/Run_54873-TPCMON_2.root',\n",
      " '/phenix/u/jinhuang/links/sPHENIX_work/Run24/online_monitoring/histograms/Run_54873-TPCMON_6.root',\n",
      " '/phenix/u/jinhuang/links/sPHENIX_work/Run24/online_monitoring/histograms/Run_54873-TPCMON_9.root',\n",
      " '/phenix/u/jinhuang/links/sPHENIX_work/Run24/online_monitoring/histograms/Run_54896-TPCMON_12.root',\n",
      " '/phenix/u/jinhuang/links/sPHENIX_work/Run24/online_monitoring/histograms/Run_54896-TPCMON_18.root',\n",
      " '/phenix/u/jinhuang/links/sPHENIX_work/Run24/online_monitoring/histograms/Run_54896-TPCMON_2.root',\n",
      " '/phenix/u/jinhuang/links/sPHENIX_work/Run24/online_monitoring/histograms/Run_54896-TPCMON_6.root',\n",
      " '/phenix/u/jinhuang/links/sPHENIX_work/Run24/online_monitoring/histograms/Run_54896-TPCMON_9.root',\n",
      " '/phenix/u/jinhuang/links/sPHENIX_work/Run24/online_monitoring/histograms/Run_54897-TPCMON_12.root',\n",
      " '/phenix/u/jinhuang/links/sPHENIX_work/Run24/online_monitoring/histograms/Run_54897-TPCMON_18.root',\n",
      " '/phenix/u/jinhuang/links/sPHENIX_work/Run24/online_monitoring/histograms/Run_54897-TPCMON_2.root',\n",
      " '/phenix/u/jinhuang/links/sPHENIX_work/Run24/online_monitoring/histograms/Run_54897-TPCMON_6.root',\n",
      " '/phenix/u/jinhuang/links/sPHENIX_work/Run24/online_monitoring/histograms/Run_54897-TPCMON_9.root',\n",
      " '/phenix/u/jinhuang/links/sPHENIX_work/Run24/online_monitoring/histograms/Run_54898-TPCMON_12.root',\n",
      " '/phenix/u/jinhuang/links/sPHENIX_work/Run24/online_monitoring/histograms/Run_54898-TPCMON_18.root',\n",
      " '/phenix/u/jinhuang/links/sPHENIX_work/Run24/online_monitoring/histograms/Run_54898-TPCMON_2.root',\n",
      " '/phenix/u/jinhuang/links/sPHENIX_work/Run24/online_monitoring/histograms/Run_54898-TPCMON_6.root',\n",
      " '/phenix/u/jinhuang/links/sPHENIX_work/Run24/online_monitoring/histograms/Run_54898-TPCMON_9.root',\n",
      " '/phenix/u/jinhuang/links/sPHENIX_work/Run24/online_monitoring/histograms/Run_54901-TPCMON_12.root',\n",
      " '/phenix/u/jinhuang/links/sPHENIX_work/Run24/online_monitoring/histograms/Run_54901-TPCMON_18.root',\n",
      " '/phenix/u/jinhuang/links/sPHENIX_work/Run24/online_monitoring/histograms/Run_54901-TPCMON_2.root',\n",
      " '/phenix/u/jinhuang/links/sPHENIX_work/Run24/online_monitoring/histograms/Run_54901-TPCMON_6.root',\n",
      " '/phenix/u/jinhuang/links/sPHENIX_work/Run24/online_monitoring/histograms/Run_54901-TPCMON_9.root',\n",
      " '/phenix/u/jinhuang/links/sPHENIX_work/Run24/online_monitoring/histograms/Run_54902-TPCMON_12.root',\n",
      " '/phenix/u/jinhuang/links/sPHENIX_work/Run24/online_monitoring/histograms/Run_54902-TPCMON_18.root',\n",
      " '/phenix/u/jinhuang/links/sPHENIX_work/Run24/online_monitoring/histograms/Run_54902-TPCMON_2.root',\n",
      " '/phenix/u/jinhuang/links/sPHENIX_work/Run24/online_monitoring/histograms/Run_54902-TPCMON_6.root',\n",
      " '/phenix/u/jinhuang/links/sPHENIX_work/Run24/online_monitoring/histograms/Run_54902-TPCMON_9.root',\n",
      " '/phenix/u/jinhuang/links/sPHENIX_work/Run24/online_monitoring/histograms/Run_54907-TPCMON_12.root',\n",
      " '/phenix/u/jinhuang/links/sPHENIX_work/Run24/online_monitoring/histograms/Run_54907-TPCMON_18.root',\n",
      " '/phenix/u/jinhuang/links/sPHENIX_work/Run24/online_monitoring/histograms/Run_54907-TPCMON_2.root',\n",
      " '/phenix/u/jinhuang/links/sPHENIX_work/Run24/online_monitoring/histograms/Run_54907-TPCMON_6.root',\n",
      " '/phenix/u/jinhuang/links/sPHENIX_work/Run24/online_monitoring/histograms/Run_54907-TPCMON_9.root',\n",
      " '/phenix/u/jinhuang/links/sPHENIX_work/Run24/online_monitoring/histograms/Run_54908-TPCMON_12.root',\n",
      " '/phenix/u/jinhuang/links/sPHENIX_work/Run24/online_monitoring/histograms/Run_54908-TPCMON_18.root',\n",
      " '/phenix/u/jinhuang/links/sPHENIX_work/Run24/online_monitoring/histograms/Run_54908-TPCMON_2.root',\n",
      " '/phenix/u/jinhuang/links/sPHENIX_work/Run24/online_monitoring/histograms/Run_54908-TPCMON_6.root',\n",
      " '/phenix/u/jinhuang/links/sPHENIX_work/Run24/online_monitoring/histograms/Run_54908-TPCMON_9.root',\n",
      " '/sphenix/lustre01/sphnxpro/commissioning/online_monitoring/histograms/TPCMON/Run_54746-TPCMON_12.root',\n",
      " '/sphenix/lustre01/sphnxpro/commissioning/online_monitoring/histograms/TPCMON/Run_54746-TPCMON_18.root',\n",
      " '/sphenix/lustre01/sphnxpro/commissioning/online_monitoring/histograms/TPCMON/Run_54746-TPCMON_6.root',\n",
      " '/sphenix/lustre01/sphnxpro/commissioning/online_monitoring/histograms/TPCMON/Run_54747-TPCMON_12.root',\n",
      " '/sphenix/lustre01/sphnxpro/commissioning/online_monitoring/histograms/TPCMON/Run_54747-TPCMON_18.root',\n",
      " '/sphenix/lustre01/sphnxpro/commissioning/online_monitoring/histograms/TPCMON/Run_54747-TPCMON_2.root',\n",
      " '/sphenix/lustre01/sphnxpro/commissioning/online_monitoring/histograms/TPCMON/Run_54747-TPCMON_6.root',\n",
      " '/sphenix/lustre01/sphnxpro/commissioning/online_monitoring/histograms/TPCMON/Run_54747-TPCMON_9.root',\n",
      " '/sphenix/lustre01/sphnxpro/commissioning/online_monitoring/histograms/TPCMON/Run_54748-TPCMON_12.root',\n",
      " '/sphenix/lustre01/sphnxpro/commissioning/online_monitoring/histograms/TPCMON/Run_54748-TPCMON_18.root',\n",
      " '/sphenix/lustre01/sphnxpro/commissioning/online_monitoring/histograms/TPCMON/Run_54748-TPCMON_2.root',\n",
      " '/sphenix/lustre01/sphnxpro/commissioning/online_monitoring/histograms/TPCMON/Run_54748-TPCMON_6.root',\n",
      " '/sphenix/lustre01/sphnxpro/commissioning/online_monitoring/histograms/TPCMON/Run_54748-TPCMON_9.root',\n",
      " '/sphenix/lustre01/sphnxpro/commissioning/online_monitoring/histograms/TPCMON/Run_54751-TPCMON_12.root',\n",
      " '/sphenix/lustre01/sphnxpro/commissioning/online_monitoring/histograms/TPCMON/Run_54751-TPCMON_18.root',\n",
      " '/sphenix/lustre01/sphnxpro/commissioning/online_monitoring/histograms/TPCMON/Run_54751-TPCMON_2.root',\n",
      " '/sphenix/lustre01/sphnxpro/commissioning/online_monitoring/histograms/TPCMON/Run_54751-TPCMON_6.root',\n",
      " '/sphenix/lustre01/sphnxpro/commissioning/online_monitoring/histograms/TPCMON/Run_54751-TPCMON_9.root',\n",
      " '/sphenix/lustre01/sphnxpro/commissioning/online_monitoring/histograms/TPCMON/Run_54816-TPCMON_12.root',\n",
      " '/sphenix/lustre01/sphnxpro/commissioning/online_monitoring/histograms/TPCMON/Run_54816-TPCMON_18.root',\n",
      " '/sphenix/lustre01/sphnxpro/commissioning/online_monitoring/histograms/TPCMON/Run_54816-TPCMON_2.root',\n",
      " '/sphenix/lustre01/sphnxpro/commissioning/online_monitoring/histograms/TPCMON/Run_54816-TPCMON_6.root',\n",
      " '/sphenix/lustre01/sphnxpro/commissioning/online_monitoring/histograms/TPCMON/Run_54816-TPCMON_9.root',\n",
      " '/sphenix/lustre01/sphnxpro/commissioning/online_monitoring/histograms/TPCMON/Run_54818-TPCMON_12.root',\n",
      " '/sphenix/lustre01/sphnxpro/commissioning/online_monitoring/histograms/TPCMON/Run_54818-TPCMON_18.root',\n",
      " '/sphenix/lustre01/sphnxpro/commissioning/online_monitoring/histograms/TPCMON/Run_54818-TPCMON_2.root',\n",
      " '/sphenix/lustre01/sphnxpro/commissioning/online_monitoring/histograms/TPCMON/Run_54818-TPCMON_6.root',\n",
      " '/sphenix/lustre01/sphnxpro/commissioning/online_monitoring/histograms/TPCMON/Run_54818-TPCMON_9.root',\n",
      " '/sphenix/lustre01/sphnxpro/commissioning/online_monitoring/histograms/TPCMON/Run_54822-TPCMON_12.root',\n",
      " '/sphenix/lustre01/sphnxpro/commissioning/online_monitoring/histograms/TPCMON/Run_54822-TPCMON_18.root',\n",
      " '/sphenix/lustre01/sphnxpro/commissioning/online_monitoring/histograms/TPCMON/Run_54822-TPCMON_2.root',\n",
      " '/sphenix/lustre01/sphnxpro/commissioning/online_monitoring/histograms/TPCMON/Run_54822-TPCMON_6.root',\n",
      " '/sphenix/lustre01/sphnxpro/commissioning/online_monitoring/histograms/TPCMON/Run_54822-TPCMON_9.root',\n",
      " '/sphenix/lustre01/sphnxpro/commissioning/online_monitoring/histograms/TPCMON/Run_54849-TPCMON_12.root',\n",
      " '/sphenix/lustre01/sphnxpro/commissioning/online_monitoring/histograms/TPCMON/Run_54849-TPCMON_18.root',\n",
      " '/sphenix/lustre01/sphnxpro/commissioning/online_monitoring/histograms/TPCMON/Run_54849-TPCMON_2.root',\n",
      " '/sphenix/lustre01/sphnxpro/commissioning/online_monitoring/histograms/TPCMON/Run_54849-TPCMON_6.root',\n",
      " '/sphenix/lustre01/sphnxpro/commissioning/online_monitoring/histograms/TPCMON/Run_54849-TPCMON_9.root',\n",
      " '/sphenix/lustre01/sphnxpro/commissioning/online_monitoring/histograms/TPCMON/Run_54850-TPCMON_12.root',\n",
      " '/sphenix/lustre01/sphnxpro/commissioning/online_monitoring/histograms/TPCMON/Run_54850-TPCMON_18.root',\n",
      " '/sphenix/lustre01/sphnxpro/commissioning/online_monitoring/histograms/TPCMON/Run_54850-TPCMON_2.root',\n",
      " '/sphenix/lustre01/sphnxpro/commissioning/online_monitoring/histograms/TPCMON/Run_54850-TPCMON_6.root',\n",
      " '/sphenix/lustre01/sphnxpro/commissioning/online_monitoring/histograms/TPCMON/Run_54850-TPCMON_9.root',\n",
      " '/sphenix/lustre01/sphnxpro/commissioning/online_monitoring/histograms/TPCMON/Run_54851-TPCMON_12.root',\n",
      " '/sphenix/lustre01/sphnxpro/commissioning/online_monitoring/histograms/TPCMON/Run_54851-TPCMON_18.root',\n",
      " '/sphenix/lustre01/sphnxpro/commissioning/online_monitoring/histograms/TPCMON/Run_54851-TPCMON_9.root',\n",
      " '/sphenix/lustre01/sphnxpro/commissioning/online_monitoring/histograms/TPCMON/Run_54852-TPCMON_12.root',\n",
      " '/sphenix/lustre01/sphnxpro/commissioning/online_monitoring/histograms/TPCMON/Run_54852-TPCMON_18.root',\n",
      " '/sphenix/lustre01/sphnxpro/commissioning/online_monitoring/histograms/TPCMON/Run_54852-TPCMON_2.root',\n",
      " '/sphenix/lustre01/sphnxpro/commissioning/online_monitoring/histograms/TPCMON/Run_54852-TPCMON_6.root',\n",
      " '/sphenix/lustre01/sphnxpro/commissioning/online_monitoring/histograms/TPCMON/Run_54852-TPCMON_9.root',\n",
      " '/sphenix/lustre01/sphnxpro/commissioning/online_monitoring/histograms/TPCMON/Run_54853-TPCMON_12.root',\n",
      " '/sphenix/lustre01/sphnxpro/commissioning/online_monitoring/histograms/TPCMON/Run_54853-TPCMON_18.root',\n",
      " '/sphenix/lustre01/sphnxpro/commissioning/online_monitoring/histograms/TPCMON/Run_54853-TPCMON_2.root',\n",
      " '/sphenix/lustre01/sphnxpro/commissioning/online_monitoring/histograms/TPCMON/Run_54853-TPCMON_6.root',\n",
      " '/sphenix/lustre01/sphnxpro/commissioning/online_monitoring/histograms/TPCMON/Run_54853-TPCMON_9.root',\n",
      " '/sphenix/lustre01/sphnxpro/commissioning/online_monitoring/histograms/TPCMON/Run_54854-TPCMON_12.root',\n",
      " '/sphenix/lustre01/sphnxpro/commissioning/online_monitoring/histograms/TPCMON/Run_54854-TPCMON_18.root',\n",
      " '/sphenix/lustre01/sphnxpro/commissioning/online_monitoring/histograms/TPCMON/Run_54854-TPCMON_6.root',\n",
      " '/sphenix/lustre01/sphnxpro/commissioning/online_monitoring/histograms/TPCMON/Run_54854-TPCMON_9.root',\n",
      " '/sphenix/lustre01/sphnxpro/commissioning/online_monitoring/histograms/TPCMON/Run_54855-TPCMON_12.root',\n",
      " '/sphenix/lustre01/sphnxpro/commissioning/online_monitoring/histograms/TPCMON/Run_54855-TPCMON_18.root',\n",
      " '/sphenix/lustre01/sphnxpro/commissioning/online_monitoring/histograms/TPCMON/Run_54855-TPCMON_2.root',\n",
      " '/sphenix/lustre01/sphnxpro/commissioning/online_monitoring/histograms/TPCMON/Run_54855-TPCMON_6.root',\n",
      " '/sphenix/lustre01/sphnxpro/commissioning/online_monitoring/histograms/TPCMON/Run_54855-TPCMON_9.root',\n",
      " '/sphenix/lustre01/sphnxpro/commissioning/online_monitoring/histograms/TPCMON/Run_54856-TPCMON_12.root',\n",
      " '/sphenix/lustre01/sphnxpro/commissioning/online_monitoring/histograms/TPCMON/Run_54856-TPCMON_18.root',\n",
      " '/sphenix/lustre01/sphnxpro/commissioning/online_monitoring/histograms/TPCMON/Run_54856-TPCMON_2.root',\n",
      " '/sphenix/lustre01/sphnxpro/commissioning/online_monitoring/histograms/TPCMON/Run_54856-TPCMON_6.root',\n",
      " '/sphenix/lustre01/sphnxpro/commissioning/online_monitoring/histograms/TPCMON/Run_54856-TPCMON_9.root',\n",
      " '/sphenix/lustre01/sphnxpro/commissioning/online_monitoring/histograms/TPCMON/Run_54857-TPCMON_12.root',\n",
      " '/sphenix/lustre01/sphnxpro/commissioning/online_monitoring/histograms/TPCMON/Run_54857-TPCMON_18.root',\n",
      " '/sphenix/lustre01/sphnxpro/commissioning/online_monitoring/histograms/TPCMON/Run_54857-TPCMON_2.root',\n",
      " '/sphenix/lustre01/sphnxpro/commissioning/online_monitoring/histograms/TPCMON/Run_54857-TPCMON_6.root',\n",
      " '/sphenix/lustre01/sphnxpro/commissioning/online_monitoring/histograms/TPCMON/Run_54857-TPCMON_9.root',\n",
      " '/sphenix/lustre01/sphnxpro/commissioning/online_monitoring/histograms/TPCMON/Run_54858-TPCMON_12.root',\n",
      " '/sphenix/lustre01/sphnxpro/commissioning/online_monitoring/histograms/TPCMON/Run_54858-TPCMON_18.root',\n",
      " '/sphenix/lustre01/sphnxpro/commissioning/online_monitoring/histograms/TPCMON/Run_54858-TPCMON_2.root',\n",
      " '/sphenix/lustre01/sphnxpro/commissioning/online_monitoring/histograms/TPCMON/Run_54858-TPCMON_6.root',\n",
      " '/sphenix/lustre01/sphnxpro/commissioning/online_monitoring/histograms/TPCMON/Run_54858-TPCMON_9.root',\n",
      " '/sphenix/lustre01/sphnxpro/commissioning/online_monitoring/histograms/TPCMON/Run_54859-TPCMON_12.root',\n",
      " '/sphenix/lustre01/sphnxpro/commissioning/online_monitoring/histograms/TPCMON/Run_54859-TPCMON_18.root',\n",
      " '/sphenix/lustre01/sphnxpro/commissioning/online_monitoring/histograms/TPCMON/Run_54859-TPCMON_2.root',\n",
      " '/sphenix/lustre01/sphnxpro/commissioning/online_monitoring/histograms/TPCMON/Run_54859-TPCMON_6.root',\n",
      " '/sphenix/lustre01/sphnxpro/commissioning/online_monitoring/histograms/TPCMON/Run_54859-TPCMON_9.root',\n",
      " '/sphenix/lustre01/sphnxpro/commissioning/online_monitoring/histograms/TPCMON/Run_54860-TPCMON_12.root',\n",
      " '/sphenix/lustre01/sphnxpro/commissioning/online_monitoring/histograms/TPCMON/Run_54860-TPCMON_18.root',\n",
      " '/sphenix/lustre01/sphnxpro/commissioning/online_monitoring/histograms/TPCMON/Run_54860-TPCMON_2.root',\n",
      " '/sphenix/lustre01/sphnxpro/commissioning/online_monitoring/histograms/TPCMON/Run_54860-TPCMON_6.root',\n",
      " '/sphenix/lustre01/sphnxpro/commissioning/online_monitoring/histograms/TPCMON/Run_54860-TPCMON_9.root',\n",
      " '/sphenix/lustre01/sphnxpro/commissioning/online_monitoring/histograms/TPCMON/Run_54861-TPCMON_12.root',\n",
      " '/sphenix/lustre01/sphnxpro/commissioning/online_monitoring/histograms/TPCMON/Run_54861-TPCMON_18.root',\n",
      " '/sphenix/lustre01/sphnxpro/commissioning/online_monitoring/histograms/TPCMON/Run_54861-TPCMON_2.root',\n",
      " '/sphenix/lustre01/sphnxpro/commissioning/online_monitoring/histograms/TPCMON/Run_54861-TPCMON_6.root',\n",
      " '/sphenix/lustre01/sphnxpro/commissioning/online_monitoring/histograms/TPCMON/Run_54861-TPCMON_9.root',\n",
      " '/sphenix/lustre01/sphnxpro/commissioning/online_monitoring/histograms/TPCMON/Run_54862-TPCMON_12.root',\n",
      " '/sphenix/lustre01/sphnxpro/commissioning/online_monitoring/histograms/TPCMON/Run_54862-TPCMON_18.root',\n",
      " '/sphenix/lustre01/sphnxpro/commissioning/online_monitoring/histograms/TPCMON/Run_54862-TPCMON_2.root',\n",
      " '/sphenix/lustre01/sphnxpro/commissioning/online_monitoring/histograms/TPCMON/Run_54862-TPCMON_6.root',\n",
      " '/sphenix/lustre01/sphnxpro/commissioning/online_monitoring/histograms/TPCMON/Run_54862-TPCMON_9.root',\n",
      " '/sphenix/lustre01/sphnxpro/commissioning/online_monitoring/histograms/TPCMON/Run_54863-TPCMON_12.root',\n",
      " '/sphenix/lustre01/sphnxpro/commissioning/online_monitoring/histograms/TPCMON/Run_54863-TPCMON_18.root',\n",
      " '/sphenix/lustre01/sphnxpro/commissioning/online_monitoring/histograms/TPCMON/Run_54863-TPCMON_2.root',\n",
      " '/sphenix/lustre01/sphnxpro/commissioning/online_monitoring/histograms/TPCMON/Run_54863-TPCMON_6.root',\n",
      " '/sphenix/lustre01/sphnxpro/commissioning/online_monitoring/histograms/TPCMON/Run_54863-TPCMON_9.root',\n",
      " '/sphenix/lustre01/sphnxpro/commissioning/online_monitoring/histograms/TPCMON/Run_54864-TPCMON_12.root',\n",
      " '/sphenix/lustre01/sphnxpro/commissioning/online_monitoring/histograms/TPCMON/Run_54864-TPCMON_18.root',\n",
      " '/sphenix/lustre01/sphnxpro/commissioning/online_monitoring/histograms/TPCMON/Run_54864-TPCMON_2.root',\n",
      " '/sphenix/lustre01/sphnxpro/commissioning/online_monitoring/histograms/TPCMON/Run_54864-TPCMON_6.root',\n",
      " '/sphenix/lustre01/sphnxpro/commissioning/online_monitoring/histograms/TPCMON/Run_54864-TPCMON_9.root',\n",
      " '/sphenix/lustre01/sphnxpro/commissioning/online_monitoring/histograms/TPCMON/Run_54865-TPCMON_12.root',\n",
      " '/sphenix/lustre01/sphnxpro/commissioning/online_monitoring/histograms/TPCMON/Run_54865-TPCMON_18.root',\n",
      " '/sphenix/lustre01/sphnxpro/commissioning/online_monitoring/histograms/TPCMON/Run_54865-TPCMON_2.root',\n",
      " '/sphenix/lustre01/sphnxpro/commissioning/online_monitoring/histograms/TPCMON/Run_54865-TPCMON_6.root',\n",
      " '/sphenix/lustre01/sphnxpro/commissioning/online_monitoring/histograms/TPCMON/Run_54865-TPCMON_9.root',\n",
      " '/sphenix/lustre01/sphnxpro/commissioning/online_monitoring/histograms/TPCMON/Run_54866-TPCMON_12.root',\n",
      " '/sphenix/lustre01/sphnxpro/commissioning/online_monitoring/histograms/TPCMON/Run_54866-TPCMON_18.root',\n",
      " '/sphenix/lustre01/sphnxpro/commissioning/online_monitoring/histograms/TPCMON/Run_54866-TPCMON_2.root',\n",
      " '/sphenix/lustre01/sphnxpro/commissioning/online_monitoring/histograms/TPCMON/Run_54866-TPCMON_6.root',\n",
      " '/sphenix/lustre01/sphnxpro/commissioning/online_monitoring/histograms/TPCMON/Run_54866-TPCMON_9.root',\n",
      " '/sphenix/lustre01/sphnxpro/commissioning/online_monitoring/histograms/TPCMON/Run_54867-TPCMON_12.root',\n",
      " '/sphenix/lustre01/sphnxpro/commissioning/online_monitoring/histograms/TPCMON/Run_54867-TPCMON_18.root',\n",
      " '/sphenix/lustre01/sphnxpro/commissioning/online_monitoring/histograms/TPCMON/Run_54867-TPCMON_2.root',\n",
      " '/sphenix/lustre01/sphnxpro/commissioning/online_monitoring/histograms/TPCMON/Run_54867-TPCMON_6.root',\n",
      " '/sphenix/lustre01/sphnxpro/commissioning/online_monitoring/histograms/TPCMON/Run_54867-TPCMON_9.root',\n",
      " '/sphenix/lustre01/sphnxpro/commissioning/online_monitoring/histograms/TPCMON/Run_54871-TPCMON_12.root',\n",
      " '/sphenix/lustre01/sphnxpro/commissioning/online_monitoring/histograms/TPCMON/Run_54871-TPCMON_18.root',\n",
      " '/sphenix/lustre01/sphnxpro/commissioning/online_monitoring/histograms/TPCMON/Run_54871-TPCMON_2.root',\n",
      " '/sphenix/lustre01/sphnxpro/commissioning/online_monitoring/histograms/TPCMON/Run_54871-TPCMON_6.root',\n",
      " '/sphenix/lustre01/sphnxpro/commissioning/online_monitoring/histograms/TPCMON/Run_54871-TPCMON_9.root',\n",
      " '/sphenix/lustre01/sphnxpro/commissioning/online_monitoring/histograms/TPCMON/Run_54872-TPCMON_12.root',\n",
      " '/sphenix/lustre01/sphnxpro/commissioning/online_monitoring/histograms/TPCMON/Run_54872-TPCMON_18.root',\n",
      " '/sphenix/lustre01/sphnxpro/commissioning/online_monitoring/histograms/TPCMON/Run_54872-TPCMON_2.root',\n",
      " '/sphenix/lustre01/sphnxpro/commissioning/online_monitoring/histograms/TPCMON/Run_54872-TPCMON_6.root',\n",
      " '/sphenix/lustre01/sphnxpro/commissioning/online_monitoring/histograms/TPCMON/Run_54872-TPCMON_9.root']\n"
     ]
    }
   ],
   "source": [
    "\n",
    "filenames = glob.glob(f\"/sphenix/lustre01/sphnxpro/commissioning/online_monitoring/histograms/TPCMON/Run_54[78]*-TPCMON_[269].root\") \n",
    "filenames = filenames + glob.glob(f\"/sphenix/lustre01/sphnxpro/commissioning/online_monitoring/histograms/TPCMON/Run_54[78]*-TPCMON_1[28].root\") \n",
    "filenames = filenames + glob.glob(f\"/phenix/u/jinhuang/links/sPHENIX_work/Run24/online_monitoring/histograms/Run_*-TPCMON_[269].root\")\n",
    "filenames = filenames + glob.glob(f\"/phenix/u/jinhuang/links/sPHENIX_work/Run24/online_monitoring/histograms/Run_*-TPCMON_1[28].root\")\n",
    "# filenames = glob.glob(f\"/sphenix/lustre01/sphnxpro/commissioning/online_monitoring/histograms/TPCMON/Run_54[78]*-TPCMON_[9].root\") \n",
    "# filenames = filenames + glob.glob(f\"/phenix/u/jinhuang/links/sPHENIX_work/Run24/online_monitoring/histograms/Run_*-TPCMON_[9].root\")\n",
    "filenames.sort()\n",
    "pprint.pprint(filenames)"
   ]
  },
  {
   "cell_type": "code",
   "execution_count": 3,
   "id": "e19d3300-ef41-40aa-a559-dbbad2ca2f2f",
   "metadata": {},
   "outputs": [],
   "source": [
    "%%cpp -d\n",
    "\n",
    "#include<sPhenixStyle.C>"
   ]
  },
  {
   "cell_type": "code",
   "execution_count": 4,
   "id": "66a9adc6-474d-407d-b852-5f0c439079e5",
   "metadata": {},
   "outputs": [
    {
     "name": "stdout",
     "output_type": "stream",
     "text": [
      "sPhenixStyle: Applying nominal settings.\n",
      "sPhenixStyle: ROOT6 mode\n"
     ]
    }
   ],
   "source": [
    "%%cpp\n",
    "\n",
    "SetsPhenixStyle()"
   ]
  },
  {
   "cell_type": "code",
   "execution_count": 5,
   "id": "0f56342c-96f9-4eb5-893b-9f9400cffe19",
   "metadata": {},
   "outputs": [],
   "source": [
    "%jsroot on"
   ]
  },
  {
   "cell_type": "code",
   "execution_count": 6,
   "id": "ad043c1e-491a-4628-ba55-9d83bf1f105b",
   "metadata": {},
   "outputs": [],
   "source": [
    "\n",
    "pedestal_sample_time = [20, 350]\n",
    "drift_sample_time = [100, 250]\n",
    "sample_width = 5\n",
    "\n",
    "\n",
    "expo = ROOT.TF1(\"expo_pedestal\", \"[0] + [1]*exp([2]*x)\", 60, 1000)"
   ]
  },
  {
   "cell_type": "code",
   "execution_count": 17,
   "id": "3efd80d2",
   "metadata": {},
   "outputs": [
    {
     "name": "stdout",
     "output_type": "stream",
     "text": [
      "decay constant: 147.37113983323994\n",
      " FCN=1245.57 FROM HESSE     STATUS=OK             18 CALLS         160 TOTAL\n",
      "                     EDM=2.62308e-11    STRATEGY= 1      ERROR MATRIX ACCURATE \n",
      "  EXT PARAMETER                                   STEP         FIRST   \n",
      "  NO.   NAME      VALUE            ERROR          SIZE      DERIVATIVE \n",
      "   1  p0          -4.17039e+03   1.45648e+02   2.32847e-01   6.41458e-08\n",
      "   2  p1           1.84939e+05   1.26658e+02   8.05236e-01   3.15209e-08\n",
      "   3  p2          -6.78559e-03   1.83017e-05   2.64044e-08   2.36378e-01\n"
     ]
    },
    {
     "name": "stderr",
     "output_type": "stream",
     "text": [
      "Warning in <TCanvas::Constructor>: Deleting canvas with same name: QA\n"
     ]
    },
    {
     "data": {
      "text/html": [
       "\n",
       "\n",
       "<div id=\"root_plot_1729312598535\"\n",
       "     style=\"width: 996px; height: 472px\">\n",
       "</div>\n",
       "<script>\n",
       "\n",
       "function display_root_plot_1729312598535(Core) {\n",
       "   let obj = Core.parse({\"_typename\":\"TCanvas\",\"fUniqueID\":0,\"fBits\":3342344,\"fLineColor\":1,\"fLineStyle\":1,\"fLineWidth\":1,\"fFillColor\":0,\"fFillStyle\":1001,\"fLeftMargin\":0.16,\"fRightMargin\":0.05,\"fBottomMargin\":0.16,\"fTopMargin\":0.05,\"fXfile\":2,\"fYfile\":2,\"fAfile\":1,\"fXstat\":0.99,\"fYstat\":0.99,\"fAstat\":2,\"fFrameFillColor\":0,\"fFrameLineColor\":1,\"fFrameFillStyle\":1001,\"fFrameLineStyle\":1,\"fFrameLineWidth\":1,\"fFrameBorderSize\":1,\"fFrameBorderMode\":0,\"fX1\":-101.2658177708,\"fY1\":-28904.504897955,\"fX2\":531.645569232264,\"fY2\":151748.658117104,\"fXtoAbsPixelk\":159.360043469715,\"fXtoPixelk\":159.360043469715,\"fXtoPixel\":1.57368001343161,\"fYtoAbsPixelk\":396.480053094673,\"fYtoPixelk\":396.480053094673,\"fYtoPixel\":-0.00261274141079199,\"fUtoAbsPixelk\":5e-5,\"fUtoPixelk\":5e-5,\"fUtoPixel\":996,\"fVtoAbsPixelk\":472.00005,\"fVtoPixelk\":472,\"fVtoPixel\":-472,\"fAbsPixeltoXk\":-101.2658177708,\"fPixeltoXk\":-101.2658177708,\"fPixeltoX\":0.635453199802273,\"fAbsPixeltoYk\":151748.658117104,\"fPixeltoYk\":-28904.504897955,\"fPixeltoY\":-382.739752150548,\"fXlowNDC\":0,\"fYlowNDC\":0,\"fXUpNDC\":1,\"fYUpNDC\":1,\"fWNDC\":1,\"fHNDC\":1,\"fAbsXlowNDC\":0,\"fAbsYlowNDC\":0,\"fAbsWNDC\":1,\"fAbsHNDC\":1,\"fUxmin\":0,\"fUymin\":0,\"fUxmax\":500,\"fUymax\":142716,\"fTheta\":30,\"fPhi\":30,\"fAspectRatio\":0,\"fNumber\":0,\"fTickx\":1,\"fTicky\":1,\"fLogx\":0,\"fLogy\":0,\"fLogz\":0,\"fPadPaint\":0,\"fCrosshair\":0,\"fCrosshairPos\":0,\"fBorderSize\":2,\"fBorderMode\":0,\"fModified\":false,\"fGridx\":false,\"fGridy\":false,\"fAbsCoord\":false,\"fEditable\":true,\"fFixedAspectRatio\":false,\"fPrimitives\":{\"_typename\":\"TList\",\"name\":\"TList\",\"arr\":[{\"_typename\":\"TFrame\",\"fUniqueID\":0,\"fBits\":8,\"fLineColor\":1,\"fLineStyle\":1,\"fLineWidth\":1,\"fFillColor\":0,\"fFillStyle\":1001,\"fX1\":0,\"fY1\":0,\"fX2\":500,\"fY2\":142716,\"fBorderSize\":1,\"fBorderMode\":0},{\"_typename\":\"TH1F\",\"fUniqueID\":0,\"fBits\":520,\"fName\":\"COUNTS_vs_SAMPLE_1D_R3\",\"fTitle\":\"COUNTS_vs_SAMPLE for Sector 2 R2\",\"fLineColor\":1,\"fLineStyle\":1,\"fLineWidth\":2,\"fFillColor\":0,\"fFillStyle\":1001,\"fMarkerColor\":1,\"fMarkerStyle\":20,\"fMarkerSize\":1.2,\"fNcells\":502,\"fXaxis\":{\"_typename\":\"TAxis\",\"fUniqueID\":0,\"fBits\":0,\"fName\":\"xaxis\",\"fTitle\":\"Sector 2: Time bin [1\\/20MHz]\",\"fNdivisions\":510,\"fAxisColor\":1,\"fLabelColor\":1,\"fLabelFont\":42,\"fLabelOffset\":0.005,\"fLabelSize\":0.05,\"fTickLength\":0.03,\"fTitleOffset\":1.4,\"fTitleSize\":0.05,\"fTitleColor\":1,\"fTitleFont\":42,\"fNbins\":500,\"fXmin\":0,\"fXmax\":500,\"fXbins\":[],\"fFirst\":0,\"fLast\":0,\"fBits2\":0,\"fTimeDisplay\":false,\"fTimeFormat\":\"\",\"fLabels\":null,\"fModLabs\":null},\"fYaxis\":{\"_typename\":\"TAxis\",\"fUniqueID\":0,\"fBits\":0,\"fName\":\"yaxis\",\"fTitle\":\"Entries\",\"fNdivisions\":510,\"fAxisColor\":1,\"fLabelColor\":1,\"fLabelFont\":42,\"fLabelOffset\":0.005,\"fLabelSize\":0.05,\"fTickLength\":0.03,\"fTitleOffset\":1.4,\"fTitleSize\":0.05,\"fTitleColor\":1,\"fTitleFont\":42,\"fNbins\":1,\"fXmin\":0,\"fXmax\":1,\"fXbins\":[],\"fFirst\":0,\"fLast\":0,\"fBits2\":0,\"fTimeDisplay\":false,\"fTimeFormat\":\"\",\"fLabels\":null,\"fModLabs\":null},\"fZaxis\":{\"_typename\":\"TAxis\",\"fUniqueID\":0,\"fBits\":0,\"fName\":\"zaxis\",\"fTitle\":\"\",\"fNdivisions\":510,\"fAxisColor\":1,\"fLabelColor\":1,\"fLabelFont\":42,\"fLabelOffset\":0.005,\"fLabelSize\":0.05,\"fTickLength\":0.03,\"fTitleOffset\":1,\"fTitleSize\":0.05,\"fTitleColor\":1,\"fTitleFont\":42,\"fNbins\":1,\"fXmin\":0,\"fXmax\":1,\"fXbins\":[],\"fFirst\":0,\"fLast\":0,\"fBits2\":0,\"fTimeDisplay\":false,\"fTimeFormat\":\"\",\"fLabels\":null,\"fModLabs\":null},\"fBarOffset\":0,\"fBarWidth\":1000,\"fEntries\":17474376,\"fTsumw\":17474376,\"fTsumw2\":17474376,\"fTsumwx\":2563241645,\"fTsumwx2\":520706847953,\"fMaximum\":-1111,\"fMinimum\":-1111,\"fNormFactor\":0,\"fContour\":[],\"fSumw2\":[],\"fOption\":\"\",\"fFunctions\":{\"_typename\":\"TList\",\"name\":\"TList\",\"arr\":[{\"_typename\":\"TF1\",\"fUniqueID\":0,\"fBits\":1536,\"fName\":\"expo_pedestal\",\"fTitle\":\"[0] + [1]*exp([2]*x)\",\"fLineColor\":1,\"fLineStyle\":1,\"fLineWidth\":3,\"fFillColor\":19,\"fFillStyle\":0,\"fMarkerColor\":1,\"fMarkerStyle\":20,\"fMarkerSize\":1.2,\"fXmin\":60,\"fXmax\":300,\"fNpar\":3,\"fNdim\":1,\"fNpx\":100,\"fType\":0,\"fNpfits\":240,\"fNDF\":237,\"fChisquare\":1245.57263996455,\"fMinimum\":-1111,\"fMaximum\":-1111,\"fParErrors\":[145.648448518916,126.65759714013,1.83017082426251e-5],\"fParMin\":[0,0,0],\"fParMax\":[0,0,0],\"fSave\":{\"$arr\":\"Float64\",\"len\":103,\"v\":[118916.731565298,116928.440841485,114972.268018446,113047.694278917,111154.209186364,109291.310549599,107458.504289593,105655.304308432,103881.232360399,102135.817925128,100418.598082814,98729.1173914415,97066.9277659849,95431.5883595719,93822.6654465606,92239.7323075059,90682.3691159856,89150.1628272534,87642.7070686909,86159.6020320294,84700.4543673122,83264.8770785707,81852.4894211844,80462.9168009002,79095.7906744819,77750.7484519651,76427.433400491,75125.4945496932,73844.5865986135,72584.3698241208,71344.5099908095,70124.6782623534,68924.5511142916,67743.8102482234,66582.1425073884,65439.2397936116,64314.7989855888,63208.5218584931,62120.1150048792,61049.289756866,59995.7621095755,58959.2526458094,57939.4864619416,56936.1930950081,55949.1064509747,54977.9647341636,54022.5103778193,53082.4899757972,52157.6542153547,51247.7578110284,50352.5594395793,49471.8216759893,48605.3109304905,47752.797386613,46914.0549402326,46088.8611396034,45276.9971263589,44478.2475774664,43692.4006481188,42919.2479155492,42158.5843237526,41410.208129101,40673.9208468369,39949.5271984309,39236.8350597899,38535.6554103018,37845.8022827036,37167.0927137585,36499.346695731,35842.3871286444,35196.0397733109,34560.1332051194,33934.4987685703,33318.9705325445,32713.3852462952,32117.5822961503,31531.4036629144,30954.6938799589,30387.2999919891,29829.0715144771,29279.8603937504,28739.5209677251,28207.9099272729,27684.8862782132,27170.3113039179,26664.0485285213,26165.963680724,25675.9246581808,25193.801492465,24719.4663145981,24252.793321136,23793.6587408033,23341.9408016671,22897.51969884,22460.2775627059,22030.0984276582,21606.8682013434,21190.4746344016,20780.8072906953,20377.7575180201,19981.2184192874,60,300]},\"fNormalized\":false,\"fNormIntegral\":0,\"fFormula\":{\"_typename\":\"TFormula\",\"fUniqueID\":0,\"fBits\":1024,\"fName\":\"expo_pedestal\",\"fTitle\":\"[0] + [1]*exp([2]*x)\",\"fClingParameters\":[-4170.39141619803,184939.319304441,-0.00678558909927388],\"fAllParametersSetted\":true,\"fParams\":[{\"$pair\":\"pair<TString,int,TFormulaParamOrder>\",\"first\":\"p0\",\"second\":0},{\"$pair\":\"pair<TString,int,TFormulaParamOrder>\",\"first\":\"p1\",\"second\":1},{\"$pair\":\"pair<TString,int,TFormulaParamOrder>\",\"first\":\"p2\",\"second\":2}],\"fFormula\":\"[p0]+[p1]*exp([p2]*x)\",\"fNdim\":1,\"fLinearParts\":[],\"fVectorized\":false},\"fParams\":null,\"fComposition\":null}],\"opt\":[\"\"]},\"fBufferSize\":0,\"fBuffer\":[],\"fBinStatErrOpt\":0,\"fStatOverflows\":2,\"fArray\":{\"$arr\":\"Float32\",\"len\":502,\"p\":1,\"v\":[8410,7043,7143,7277,7548,7707,7326,7248,7222,7287,7287,7373,7368,7188,7318,7517,7647,7454,7331,7243,7250,7310,7372,7229,7134,7081,7005,7053,7076,6919,6970,6902,6870,6982,7022,7050,6978,6990,7161,7883,17448,54102,101198,129961,135920,135371,134298,131650,130750,129950,129969,128456,127801,126207,124996,123052,122389,121968,121521,120659,119804,119631,118535,117781,116380,116003,113949,113758,112864,112240,110291,109653,108841,108557,107785,106895,106046,105311,104947,104013,103419,102055,101481,99930,99400,98954,98937,97994,97489,96666,95691,94887,94672,94107,92621,92055,91081,90644,89343,88860,88368,88212,87399,86435,85493,85695,85217,84199,83398,82991,82726,81935,81424,80760,80794,79820,79447,79016,78430,77611,77651,76926,76464,75326,74658,73945,73789,73691,73246,72547,71484,71127,70889,70560,69903,68795,68493,68128,68259,67825,67085,66567,66538,65863,65523,65012,64555,63188,62768,61949,61462,61256,60674,60315,60189,60003,60033,59657,58969,58019,57679,57424,56937,56718,56217,55874,55372,54681,54487,54187,54354,54152,53546,53361,53534,52862,51941,51284,51146,50661,50522,50719,50441,49357,49113,49675,49287,48553,48614,47763,47148,46527,45806,45951,45806,45495,44322,44073,43585,43125,42929,43194,42391,42428,42529,42492,42097,41745,41524,40855,40353,39624,40034,39781,39280,38984,38781,38574,38862,38509,37862,37179,36678,36630,36289,35947,35723,35703,34654,34112,33633,33861,33792,33860,33658,33512,33674,33446,32655,31856,31492,31655,31806,31295,30852,30285,29848,29624,29726,29919,29778,29515,28918,28353,28080,28337,27923,27940,27504,27166,27481,27247,26920,26640,26565,26464,25979,25661,25351,25518,25363,25214,25488,25208,24455,23733,23803,24013,23839,23433,23432,23570,23405,23269,22739,22589,22435,22059,21690,21570,21167,20947,21213,21234,20954,21063,20559,20410,20060,19547,19734,20309,19977,19865,19662,19674,19170,18470,18489,18342,17905,17300,17447,17699,17580,17313,17420,17619,17482,13553,8493,6961,6927,6879,6670,6418,6645,6657,6438,6440,6528,6511,6501,6612,6521,6507,6571,6447,6545,6450,6460,6421,6572,6475,6536,6506,6571,6483,6364,6295,6349,6364,6442,6290,6120,6186,6198,6185,6234,6340,6163,6110,6162,6286,6310,6185,6043,5971,6131,6177,6082,6025,5992,6106,6175,6136,5899,5981,6078,6070,6030,5920,6016,5909,6002,5976,5964,6056,6086,6062,6008,5971,5943,5927,5576,5723,5646,5861,5856,5826,5949,5897,5940,5951,5866,5873,6006,5978,5898,5743,5881,5808,5611,5613,5754,5860,5982,14154,56329,39828,7306,5906,5933,5844,5958,6012,5815,5737,5612,5620,5673,5809,5965,5786,5730,5806,5884,5958,5869,5718,5694,5683,5589,5746,5656,5559,5434,5585,5687,5363,5553]}},{\"_typename\":\"TF1\",\"fUniqueID\":0,\"fBits\":8,\"fName\":\"expo_pedestal\",\"fTitle\":\"[0] + [1]*exp([2]*x)\",\"fLineColor\":1,\"fLineStyle\":1,\"fLineWidth\":3,\"fFillColor\":19,\"fFillStyle\":0,\"fMarkerColor\":1,\"fMarkerStyle\":20,\"fMarkerSize\":1.2,\"fXmin\":60,\"fXmax\":1000,\"fNpar\":3,\"fNdim\":1,\"fNpx\":100,\"fType\":0,\"fNpfits\":240,\"fNDF\":237,\"fChisquare\":1245.57263996455,\"fMinimum\":-1111,\"fMaximum\":-1111,\"fParErrors\":[145.648448518916,126.65759714013,1.83017082426251e-5],\"fParMin\":[0,0,0],\"fParMax\":[0,0,0],\"fSave\":[],\"fNormalized\":false,\"fNormIntegral\":0,\"fFormula\":{\"_typename\":\"TFormula\",\"fUniqueID\":0,\"fBits\":1024,\"fName\":\"expo_pedestal\",\"fTitle\":\"[0] + [1]*exp([2]*x)\",\"fClingParameters\":[-4170.39141619803,184939.319304441,-0.00678558909927388],\"fAllParametersSetted\":true,\"fParams\":[{\"$pair\":\"pair<TString,int,TFormulaParamOrder>\",\"first\":\"p0\",\"second\":0},{\"$pair\":\"pair<TString,int,TFormulaParamOrder>\",\"first\":\"p1\",\"second\":1},{\"$pair\":\"pair<TString,int,TFormulaParamOrder>\",\"first\":\"p2\",\"second\":2}],\"fFormula\":\"[p0]+[p1]*exp([p2]*x)\",\"fNdim\":1,\"fLinearParts\":[],\"fVectorized\":false},\"fParams\":null,\"fComposition\":null},{\"_typename\":\"TStyle\",\"fUniqueID\":0,\"fBits\":0,\"fName\":\"sPHENIX\",\"fTitle\":\"sPHENIX style\",\"fLineColor\":1,\"fLineStyle\":1,\"fLineWidth\":1,\"fFillColor\":19,\"fFillStyle\":1001,\"fMarkerColor\":1,\"fMarkerStyle\":20,\"fMarkerSize\":1.2,\"fTextAngle\":0,\"fTextSize\":0.05,\"fTextAlign\":11,\"fTextColor\":1,\"fTextFont\":42,\"fXaxis\":{\"_typename\":\"TAttAxis\",\"fNdivisions\":510,\"fAxisColor\":1,\"fLabelColor\":1,\"fLabelFont\":42,\"fLabelOffset\":0.005,\"fLabelSize\":0.05,\"fTickLength\":0.03,\"fTitleOffset\":1.4,\"fTitleSize\":0.05,\"fTitleColor\":1,\"fTitleFont\":42},\"fYaxis\":{\"_typename\":\"TAttAxis\",\"fNdivisions\":510,\"fAxisColor\":1,\"fLabelColor\":1,\"fLabelFont\":42,\"fLabelOffset\":0.005,\"fLabelSize\":0.05,\"fTickLength\":0.03,\"fTitleOffset\":1.4,\"fTitleSize\":0.05,\"fTitleColor\":1,\"fTitleFont\":42},\"fZaxis\":{\"_typename\":\"TAttAxis\",\"fNdivisions\":510,\"fAxisColor\":1,\"fLabelColor\":1,\"fLabelFont\":42,\"fLabelOffset\":0.005,\"fLabelSize\":0.05,\"fTickLength\":0.03,\"fTitleOffset\":1,\"fTitleSize\":0.05,\"fTitleColor\":1,\"fTitleFont\":42},\"fBarWidth\":1,\"fBarOffset\":0,\"fColorModelPS\":0,\"fDrawBorder\":0,\"fOptLogx\":0,\"fOptLogy\":0,\"fOptLogz\":0,\"fOptDate\":0,\"fOptStat\":0,\"fOptTitle\":0,\"fOptFile\":0,\"fOptFit\":0,\"fShowEventStatus\":0,\"fShowEditor\":0,\"fShowToolBar\":0,\"fNumberContours\":80,\"fAttDate\":{\"_typename\":\"TAttText\",\"fTextAngle\":0,\"fTextSize\":0.025,\"fTextAlign\":11,\"fTextColor\":1,\"fTextFont\":62},\"fDateX\":0.01,\"fDateY\":0.01,\"fEndErrorSize\":0,\"fErrorX\":0.5,\"fFuncColor\":1,\"fFuncStyle\":1,\"fFuncWidth\":3,\"fGridColor\":0,\"fGridStyle\":3,\"fGridWidth\":1,\"fLegendBorderSize\":0,\"fLegendFillColor\":0,\"fLegendFont\":42,\"fLegendTextSize\":0.05,\"fHatchesLineWidth\":1,\"fHatchesSpacing\":1,\"fFrameFillColor\":0,\"fFrameLineColor\":1,\"fFrameFillStyle\":1001,\"fFrameLineStyle\":1,\"fFrameLineWidth\":1,\"fFrameBorderSize\":1,\"fFrameBorderMode\":0,\"fHistFillColor\":0,\"fHistLineColor\":1,\"fHistFillStyle\":1001,\"fHistLineStyle\":1,\"fHistLineWidth\":2,\"fHistMinimumZero\":false,\"fHistTopMargin\":0.05,\"fCanvasPreferGL\":false,\"fCanvasColor\":0,\"fCanvasBorderSize\":2,\"fCanvasBorderMode\":0,\"fCanvasDefH\":500,\"fCanvasDefW\":700,\"fCanvasDefX\":10,\"fCanvasDefY\":10,\"fPadColor\":0,\"fPadBorderSize\":2,\"fPadBorderMode\":0,\"fPadBottomMargin\":0.16,\"fPadTopMargin\":0.05,\"fPadLeftMargin\":0.16,\"fPadRightMargin\":0.05,\"fPadGridX\":false,\"fPadGridY\":false,\"fPadTickX\":1,\"fPadTickY\":1,\"fPaperSizeX\":20,\"fPaperSizeY\":26,\"fScreenFactor\":1,\"fStatColor\":0,\"fStatTextColor\":1,\"fStatBorderSize\":2,\"fStatFont\":62,\"fStatFontSize\":0,\"fStatStyle\":1001,\"fStatFormat\":\"6.4g\",\"fStatX\":0.98,\"fStatY\":0.995,\"fStatW\":0.2,\"fStatH\":0.16,\"fStripDecimals\":true,\"fTitleAlign\":13,\"fTitleColor\":19,\"fTitleTextColor\":1,\"fTitleBorderSize\":2,\"fTitleFont\":62,\"fTitleFontSize\":0,\"fTitleStyle\":1001,\"fTitleX\":0.01,\"fTitleY\":0.995,\"fTitleW\":0,\"fTitleH\":0,\"fLegoInnerR\":0.5,\"fLineStyles\":[\"\",\"  \",\"  12 12 \",\" 4 8\",\" 12 16 4 16\",\" 20 12 4 12\",\" 20 12 4 12 4 12 4 12\",\" 20 20\",\" 20 12 4 12 4 12\",\" 80 20\",\" 80 40 4 40\",\"  \",\"  \",\"  \",\"  \",\"  \",\"  \",\"  \",\"  \",\"  \",\"  \",\"  \",\"  \",\"  \",\"  \",\"  \",\"  \",\"  \",\"  \",\"  \"],\"fHeaderPS\":\"\",\"fTitlePS\":\"\",\"fFitFormat\":\"5.4g\",\"fPaintTextFormat\":\"g\",\"fLineScalePS\":3,\"fJoinLinePS\":0,\"fCapLinePS\":0,\"fTimeOffset\":788918400,\"fImageScaling\":1}],\"opt\":[\"\",\"\",\"same\",\"\"]},\"fExecs\":null,\"fName\":\"QA\",\"fTitle\":\"QA\",\"fNumPaletteColor\":0,\"fNextPaletteColor\":0,\"fDISPLAY\":\"$DISPLAY\",\"fDoubleBuffer\":0,\"fRetained\":true,\"fXsizeUser\":0,\"fYsizeUser\":0,\"fXsizeReal\":20,\"fYsizeReal\":10,\"fWindowTopX\":0,\"fWindowTopY\":0,\"fWindowWidth\":0,\"fWindowHeight\":0,\"fCw\":996,\"fCh\":472,\"fCatt\":{\"_typename\":\"TAttCanvas\",\"fXBetween\":2,\"fYBetween\":2,\"fTitleFromTop\":1.2,\"fXdate\":0.2,\"fYdate\":0.3,\"fAdate\":1},\"kMoveOpaque\":true,\"kResizeOpaque\":true,\"fHighLightColor\":2,\"fBatch\":true,\"kShowEventStatus\":false,\"kAutoExec\":true,\"kMenuBar\":true});\n",
       "   Core.settings.HandleKeys = false;\n",
       "   Core.draw(\"root_plot_1729312598535\", obj, \"\");\n",
       "}\n",
       "\n",
       "function script_load_root_plot_1729312598535(src, on_error) {\n",
       "    let script = document.createElement('script');\n",
       "    script.src = src;\n",
       "    script.onload = function() { display_root_plot_1729312598535(JSROOT); };\n",
       "    script.onerror = function() { script.remove(); on_error(); };\n",
       "    document.head.appendChild(script);\n",
       "}\n",
       "\n",
       "if (typeof requirejs !== 'undefined') {\n",
       "\n",
       "    // We are in jupyter notebooks, use require.js which should be configured already\n",
       "    requirejs.config({\n",
       "       paths: { 'JSRootCore' : [ 'scripts/JSRoot.core', 'https://root.cern/js/6.1.1/scripts/JSRoot.core.min', 'https://jsroot.gsi.de/6.1.1/scripts/JSRoot.core.min' ] }\n",
       "    })(['JSRootCore'],  function(Core) {\n",
       "       display_root_plot_1729312598535(Core);\n",
       "    });\n",
       "\n",
       "} else if (typeof JSROOT !== 'undefined') {\n",
       "\n",
       "   // JSROOT already loaded, just use it\n",
       "   display_root_plot_1729312598535(JSROOT);\n",
       "\n",
       "} else {\n",
       "\n",
       "    // We are in jupyterlab without require.js, directly loading jsroot\n",
       "    // Jupyterlab might be installed in a different base_url so we need to know it.\n",
       "    try {\n",
       "        var base_url = JSON.parse(document.getElementById('jupyter-config-data').innerHTML).baseUrl;\n",
       "    } catch(_) {\n",
       "        var base_url = '/';\n",
       "    }\n",
       "\n",
       "    // Try loading a local version of requirejs and fallback to cdn if not possible.\n",
       "    script_load_root_plot_1729312598535(base_url + 'static/scripts/JSRoot.core.js', function(){\n",
       "        console.error('Fail to load JSROOT locally, please check your jupyter_notebook_config.py file');\n",
       "        script_load_root_plot_1729312598535('https://root.cern/js/6.1.1/scripts/JSRoot.core.min.js', function(){\n",
       "            document.getElementById(\"root_plot_1729312598535\").innerHTML = \"Failed to load JSROOT\";\n",
       "        });\n",
       "    });\n",
       "}\n",
       "\n",
       "</script>\n"
      ],
      "text/plain": [
       "<IPython.core.display.HTML object>"
      ]
     },
     "metadata": {},
     "output_type": "display_data"
    }
   ],
   "source": [
    "file_tmp = ROOT.TFile.Open(filenames[50])\n",
    "\n",
    "\n",
    "c1 = ROOT.TCanvas( 'QA', 'QA', 1000, 500)\n",
    "\n",
    "hist = file_tmp.Get(\"COUNTS_vs_SAMPLE_1D_R3\")\n",
    "expo.SetParameters(hist.GetBinContent(2), hist.GetMaximum(), -0.01)\n",
    "hist.Fit(\"expo_pedestal\", \"RMS0\", \"\", 60, 300)\n",
    "hist.DrawClone()\n",
    "expo.DrawClone(\"same\")\n",
    "print(f\"decay constant: {-1/expo.GetParameter(2)}\")\n",
    "c1.Draw(\"\")\n",
    "\n"
   ]
  },
  {
   "cell_type": "code",
   "execution_count": null,
   "id": "11d9e452",
   "metadata": {},
   "outputs": [],
   "source": [
    "\n",
    "runnumber_list = []\n",
    "sector_list = []\n",
    "decay_constant_list = []\n",
    "decay_constant_err_list = []\n",
    "\n",
    "first_run = True\n",
    "\n",
    "for filename in tqdm(filenames):\n",
    "    print(f\"Openning filename ... {filename}\")\n",
    "    file = ROOT.TFile.Open(filename)\n",
    "\n",
    "    runnumber = int(filename.split(\"-\")[-2].split(\"_\")[-1])\n",
    "    sector = int(filename.split(\".\")[-2].split(\"_\")[-1])\n",
    "\n",
    "    list = file.GetListOfKeys()\n",
    "\n",
    "    first_hist = True\n",
    "\n",
    "    for key in list:\n",
    "        keyname = key.GetName()\n",
    "        if not re.match(\"COUNTS_vs_SAMPLE_1D_R3\", keyname):\n",
    "            continue\n",
    "\n",
    "        hist = file.Get(keyname)\n",
    "        if first_hist:\n",
    "            hist_sum = hist.Clone(f\"h_{runnumber}_{sector}\")\n",
    "            first_hist = False\n",
    "        else:\n",
    "            hist_sum.Add(hist)\n",
    "        \n",
    "        print(f\"{runnumber}/Sector{sector}/{keyname}:  statistics {hist_sum.GetSum()}\")\n",
    "    \n",
    "    if hist_sum.GetSum() < 1000000:\n",
    "        print(f\"Skipping run {runnumber}/Sector{sector} due to low statistics {hist_sum.GetSum()}\")\n",
    "        continue\n",
    "\n",
    "    if not first_hist:\n",
    "        expo.SetParameters(hist_sum.GetBinContent(2), hist_sum.GetMaximum(), -0.01)\n",
    "        hist_sum.Fit(\"expo_pedestal\", \"RMS0\", \"\", 60, 300)\n",
    "        decay_constant = -1/expo.GetParameter(2)\n",
    "        if abs(expo.GetParError(2)/expo.GetParameter(2)) > 0.1:\n",
    "            print(f\"Skipping run {runnumber}/Sector{sector} due to large error {abs(expo.GetParError(2)/expo.GetParameter(2))}\")\n",
    "            continue\n",
    "\n",
    "        runnumber_list.append(runnumber)\n",
    "        sector_list.append(sector)\n",
    "        decay_constant_list.append( decay_constant )\n",
    "        decay_constant_err_list.append(abs(expo.GetParError(2)/expo.GetParameter(2)*decay_constant))\n",
    "\n",
    "        if first_run:\n",
    "            first_run = False\n",
    "\n",
    "    file.Close()\n",
    "\n",
    "\n"
   ]
  },
  {
   "cell_type": "code",
   "execution_count": null,
   "id": "536f884b",
   "metadata": {},
   "outputs": [],
   "source": [
    "# pprint.pprint(decay_constant_dict)\n",
    "df = pd.DataFrame({'Run Number': runnumber_list, 'Sector': sector_list, \n",
    "                   'Decay Constant [50ns]': decay_constant_list,\n",
    "                   'Decay Constant Error': decay_constant_err_list})\n",
    "print (df)"
   ]
  },
  {
   "cell_type": "markdown",
   "id": "86cb4e6e",
   "metadata": {},
   "source": []
  },
  {
   "cell_type": "code",
   "execution_count": 11,
   "id": "da05000d",
   "metadata": {},
   "outputs": [
    {
     "data": {
      "application/vnd.plotly.v1+json": {
       "config": {
        "plotlyServerURL": "https://plot.ly"
       },
       "data": [
        {
         "error_y": {
          "array": [
           0.18777585783874862,
           0.2803717145751968,
           0.21681532012334276,
           0.20275579381180153,
           0.22356607662880373,
           0.8013676690260415,
           0.9375595978483142,
           0.982370133977429,
           0.8911368885796003,
           1.0567307943674276,
           0.401245187553218,
           0.5257912122073608,
           0.433893196740354,
           0.5273415734147907,
           0.5205535033384182,
           1.9989696926322231,
           1.263733428538075,
           0.6841659401241318,
           0.7277280403531035,
           0.5574781457128972,
           0.6609794950079361,
           0.7244288836571998,
           0.6554133958241474,
           1.1359943791492804,
           1.3783516154108497,
           0.4186579098326053,
           0.6993991120850238,
           0.5191318200952788,
           0.490181629413387,
           0.40937412402942674,
           0.3252013483110608,
           0.4203676441556304,
           0.3974807032036746,
           0.43710395307658767,
           0.40590022065142883,
           1.371792933007753,
           1.197782695185481,
           1.768552494045948,
           1.3322492753065618,
           2.455536022919744,
           0.6441149892086139,
           0.8596122354255441,
           0.6756186448336429,
           0.9394653805792875,
           0.6125523177518242,
           0.6796086771587121,
           0.9099223745331178,
           0.5929943563015294,
           0.5782360131940127,
           0.6129983736282308,
           0.826603369847165,
           0.9089091556071258,
           0.9127435989374025,
           0.6924937586472902,
           0.6464742038037562,
           0.45706497594324674,
           0.5992517449235024,
           0.5880075412692686,
           0.5479513879510478,
           0.7609121040984701,
           0.46597396285507553,
           0.44773137184161726,
           0.7036507664162979,
           1.0469556403193052,
           0.8456789495408833,
           0.8666512317870918,
           0.947316639076633,
           1.0869442977923887,
           0.8869821985490794,
           0.7538104695123933,
           0.6936308714754633,
           1.5437067651148442,
           0.9432143489385674,
           9.061568024764528,
           5.414205803262891,
           1.572352615307232,
           11.577955735729867,
           1.4479576016312186,
           14.561870392423678,
           10.894826768933502,
           37.237215413302934,
           1.1896775728924047,
           34.36409648047531,
           0.4865784592373296,
           0.7575711904324218,
           0.6236458106637935,
           0.5586536013113385,
           0.642629578497783,
           0.2285037115544591,
           0.2898774683695789,
           0.26886455837526246,
           0.2666212553260745,
           0.26855947585057066,
           0.25366131000747383,
           0.27756295776278134,
           0.3078542627633887,
           0.2618964289784329,
           0.3162588868398017,
           0.7961634481850539,
           0.9523652886756016,
           0.6430771509991923,
           0.8402250627601577,
           1.182303592767372,
           0.2676300340831497,
           0.29058763679693894,
           0.3201446189587628,
           0.2904890542515002,
           0.30080958262179514,
           0.22225739817619783,
           0.23825439455980862,
           0.2705651529345071,
           0.24212602786409368,
           0.29608489068476346,
           0.41357632163884656,
           0.41163693908462096,
           0.369492274429924,
           0.3765135245853311,
           0.42993172656231143,
           0.6031789644975655,
           0.6736259042015921,
           0.6849954310493259,
           0.6253125590262936,
           0.5910184700582432,
           0.2260579350589168,
           0.2564436065202944,
           0.25356690128626447,
           0.24172643294742927,
           0.21723538092627903
          ]
         },
         "hovertemplate": "Run Number=%{x}<br>Decay Constant [50ns]=%{y}<br>Sector=%{marker.color}<extra></extra>",
         "legendgroup": "",
         "marker": {
          "color": [
           12,
           18,
           2,
           6,
           9,
           12,
           18,
           2,
           6,
           9,
           12,
           18,
           2,
           6,
           9,
           12,
           2,
           12,
           18,
           2,
           6,
           9,
           12,
           18,
           6,
           12,
           18,
           2,
           6,
           9,
           12,
           18,
           2,
           6,
           9,
           12,
           18,
           2,
           6,
           9,
           12,
           18,
           2,
           6,
           9,
           12,
           18,
           2,
           6,
           9,
           12,
           18,
           9,
           12,
           18,
           2,
           6,
           9,
           12,
           18,
           2,
           6,
           9,
           12,
           18,
           2,
           6,
           9,
           12,
           18,
           2,
           6,
           9,
           12,
           18,
           2,
           6,
           9,
           12,
           18,
           2,
           6,
           9,
           12,
           18,
           2,
           6,
           9,
           12,
           18,
           2,
           6,
           9,
           12,
           18,
           2,
           6,
           9,
           12,
           18,
           2,
           6,
           9,
           12,
           18,
           2,
           6,
           9,
           12,
           18,
           2,
           6,
           9,
           12,
           18,
           2,
           6,
           9,
           12,
           18,
           2,
           6,
           9,
           12,
           18,
           2,
           6,
           9
          ],
          "coloraxis": "coloraxis",
          "symbol": "circle"
         },
         "mode": "markers",
         "name": "",
         "orientation": "v",
         "showlegend": false,
         "type": "scatter",
         "x": [
          54873,
          54873,
          54873,
          54873,
          54873,
          54896,
          54896,
          54896,
          54896,
          54896,
          54897,
          54897,
          54897,
          54897,
          54897,
          54898,
          54898,
          54908,
          54908,
          54908,
          54908,
          54908,
          54746,
          54746,
          54746,
          54747,
          54747,
          54747,
          54747,
          54747,
          54748,
          54748,
          54748,
          54748,
          54748,
          54816,
          54816,
          54816,
          54816,
          54816,
          54849,
          54849,
          54849,
          54849,
          54849,
          54850,
          54850,
          54850,
          54850,
          54850,
          54851,
          54851,
          54851,
          54852,
          54852,
          54852,
          54852,
          54852,
          54853,
          54853,
          54853,
          54853,
          54853,
          54857,
          54857,
          54857,
          54857,
          54857,
          54858,
          54858,
          54858,
          54858,
          54858,
          54859,
          54859,
          54859,
          54859,
          54859,
          54860,
          54860,
          54860,
          54860,
          54860,
          54861,
          54861,
          54861,
          54861,
          54861,
          54862,
          54862,
          54862,
          54862,
          54862,
          54863,
          54863,
          54863,
          54863,
          54863,
          54864,
          54864,
          54864,
          54864,
          54864,
          54865,
          54865,
          54865,
          54865,
          54865,
          54866,
          54866,
          54866,
          54866,
          54866,
          54867,
          54867,
          54867,
          54867,
          54867,
          54871,
          54871,
          54871,
          54871,
          54871,
          54872,
          54872,
          54872,
          54872,
          54872
         ],
         "xaxis": "x",
         "y": [
          137.62993010302546,
          130.9679043835444,
          130.67286553615207,
          131.45321560882897,
          137.67803990296306,
          155.55744292150914,
          139.32762557761882,
          161.28589095817668,
          157.91038442688182,
          173.85089473514654,
          153.43102918770575,
          142.58678279260246,
          153.9951908855472,
          162.91591374717848,
          161.18039983737884,
          41.062319210290084,
          19.758834173687067,
          183.12212229837,
          142.3771118295432,
          155.4778929580405,
          166.85054533508924,
          169.90812035215976,
          132.6508428546902,
          142.06507187911276,
          157.56307755282484,
          142.8998911450852,
          151.40189014722932,
          151.07071757999609,
          141.39215816640342,
          140.30448258024865,
          141.76184327277866,
          133.5075257145567,
          147.3711398332351,
          145.04589955063358,
          152.55835854031943,
          176.6801861312829,
          153.97192847278993,
          186.50780135719785,
          174.78483889852578,
          208.06348621775243,
          143.07481332115103,
          141.34110068157705,
          144.64124648172603,
          136.1331443256271,
          133.64782085177853,
          154.20977083251776,
          152.48169191101468,
          140.2822825181662,
          136.81357758986192,
          140.50515304376563,
          148.35098997476277,
          129.23353641508533,
          143.45209268176407,
          160.02139834835597,
          152.36253011069925,
          136.96847943679745,
          147.21728307193183,
          137.9292039869593,
          144.0276491655451,
          164.72864972376217,
          140.44039453634474,
          131.30628017788834,
          151.65343557374572,
          161.4294639001708,
          142.54483853176677,
          154.10010018683607,
          135.94890415245635,
          155.43889301179615,
          147.59296592933305,
          137.32731457933542,
          136.59488027632779,
          176.44810573502605,
          140.57254243507236,
          610.8740957062112,
          459.15034625601623,
          1372.8834017843965,
          622.5516167474785,
          1598.5559427895491,
          812.0342247896149,
          674.223013384215,
          2432.485041918738,
          1206.637491352389,
          3781.242280828704,
          132.28765984353322,
          131.78275626580717,
          131.72104052540772,
          131.3989855676953,
          139.27409701549425,
          147.02291908964767,
          134.1968940859783,
          142.09786711147862,
          144.67216226298817,
          145.09437976861102,
          145.09852614362876,
          129.2359930649831,
          147.04834024175406,
          139.26500582575682,
          150.66408963364734,
          146.60941917410656,
          139.62834133095558,
          135.59875417531737,
          149.05622169322717,
          164.5098389225147,
          149.8793961775395,
          131.60682698214134,
          143.787522681972,
          141.00714153292583,
          146.27464195529785,
          146.26067514148863,
          137.76807939338332,
          145.74691585318035,
          138.2135217258161,
          152.5165075527073,
          151.4485985980828,
          135.84404095586544,
          137.01311260068897,
          141.33946383411126,
          150.01312657789916,
          152.5110132608178,
          153.32042900738594,
          142.34512298529626,
          142.85678981618804,
          152.87381674218815,
          142.92718799005448,
          131.85559191504555,
          135.36669787830957,
          140.6441035716219,
          136.06347493000376
         ],
         "yaxis": "y"
        }
       ],
       "layout": {
        "coloraxis": {
         "colorbar": {
          "title": {
           "text": "Sector"
          }
         },
         "colorscale": [
          [
           0,
           "#0d0887"
          ],
          [
           0.1111111111111111,
           "#46039f"
          ],
          [
           0.2222222222222222,
           "#7201a8"
          ],
          [
           0.3333333333333333,
           "#9c179e"
          ],
          [
           0.4444444444444444,
           "#bd3786"
          ],
          [
           0.5555555555555556,
           "#d8576b"
          ],
          [
           0.6666666666666666,
           "#ed7953"
          ],
          [
           0.7777777777777778,
           "#fb9f3a"
          ],
          [
           0.8888888888888888,
           "#fdca26"
          ],
          [
           1,
           "#f0f921"
          ]
         ]
        },
        "height": 800,
        "legend": {
         "tracegroupgap": 0
        },
        "template": {
         "data": {
          "bar": [
           {
            "error_x": {
             "color": "#2a3f5f"
            },
            "error_y": {
             "color": "#2a3f5f"
            },
            "marker": {
             "line": {
              "color": "white",
              "width": 0.5
             },
             "pattern": {
              "fillmode": "overlay",
              "size": 10,
              "solidity": 0.2
             }
            },
            "type": "bar"
           }
          ],
          "barpolar": [
           {
            "marker": {
             "line": {
              "color": "white",
              "width": 0.5
             },
             "pattern": {
              "fillmode": "overlay",
              "size": 10,
              "solidity": 0.2
             }
            },
            "type": "barpolar"
           }
          ],
          "carpet": [
           {
            "aaxis": {
             "endlinecolor": "#2a3f5f",
             "gridcolor": "#C8D4E3",
             "linecolor": "#C8D4E3",
             "minorgridcolor": "#C8D4E3",
             "startlinecolor": "#2a3f5f"
            },
            "baxis": {
             "endlinecolor": "#2a3f5f",
             "gridcolor": "#C8D4E3",
             "linecolor": "#C8D4E3",
             "minorgridcolor": "#C8D4E3",
             "startlinecolor": "#2a3f5f"
            },
            "type": "carpet"
           }
          ],
          "choropleth": [
           {
            "colorbar": {
             "outlinewidth": 0,
             "ticks": ""
            },
            "type": "choropleth"
           }
          ],
          "contour": [
           {
            "colorbar": {
             "outlinewidth": 0,
             "ticks": ""
            },
            "colorscale": [
             [
              0,
              "#0d0887"
             ],
             [
              0.1111111111111111,
              "#46039f"
             ],
             [
              0.2222222222222222,
              "#7201a8"
             ],
             [
              0.3333333333333333,
              "#9c179e"
             ],
             [
              0.4444444444444444,
              "#bd3786"
             ],
             [
              0.5555555555555556,
              "#d8576b"
             ],
             [
              0.6666666666666666,
              "#ed7953"
             ],
             [
              0.7777777777777778,
              "#fb9f3a"
             ],
             [
              0.8888888888888888,
              "#fdca26"
             ],
             [
              1,
              "#f0f921"
             ]
            ],
            "type": "contour"
           }
          ],
          "contourcarpet": [
           {
            "colorbar": {
             "outlinewidth": 0,
             "ticks": ""
            },
            "type": "contourcarpet"
           }
          ],
          "heatmap": [
           {
            "colorbar": {
             "outlinewidth": 0,
             "ticks": ""
            },
            "colorscale": [
             [
              0,
              "#0d0887"
             ],
             [
              0.1111111111111111,
              "#46039f"
             ],
             [
              0.2222222222222222,
              "#7201a8"
             ],
             [
              0.3333333333333333,
              "#9c179e"
             ],
             [
              0.4444444444444444,
              "#bd3786"
             ],
             [
              0.5555555555555556,
              "#d8576b"
             ],
             [
              0.6666666666666666,
              "#ed7953"
             ],
             [
              0.7777777777777778,
              "#fb9f3a"
             ],
             [
              0.8888888888888888,
              "#fdca26"
             ],
             [
              1,
              "#f0f921"
             ]
            ],
            "type": "heatmap"
           }
          ],
          "heatmapgl": [
           {
            "colorbar": {
             "outlinewidth": 0,
             "ticks": ""
            },
            "colorscale": [
             [
              0,
              "#0d0887"
             ],
             [
              0.1111111111111111,
              "#46039f"
             ],
             [
              0.2222222222222222,
              "#7201a8"
             ],
             [
              0.3333333333333333,
              "#9c179e"
             ],
             [
              0.4444444444444444,
              "#bd3786"
             ],
             [
              0.5555555555555556,
              "#d8576b"
             ],
             [
              0.6666666666666666,
              "#ed7953"
             ],
             [
              0.7777777777777778,
              "#fb9f3a"
             ],
             [
              0.8888888888888888,
              "#fdca26"
             ],
             [
              1,
              "#f0f921"
             ]
            ],
            "type": "heatmapgl"
           }
          ],
          "histogram": [
           {
            "marker": {
             "pattern": {
              "fillmode": "overlay",
              "size": 10,
              "solidity": 0.2
             }
            },
            "type": "histogram"
           }
          ],
          "histogram2d": [
           {
            "colorbar": {
             "outlinewidth": 0,
             "ticks": ""
            },
            "colorscale": [
             [
              0,
              "#0d0887"
             ],
             [
              0.1111111111111111,
              "#46039f"
             ],
             [
              0.2222222222222222,
              "#7201a8"
             ],
             [
              0.3333333333333333,
              "#9c179e"
             ],
             [
              0.4444444444444444,
              "#bd3786"
             ],
             [
              0.5555555555555556,
              "#d8576b"
             ],
             [
              0.6666666666666666,
              "#ed7953"
             ],
             [
              0.7777777777777778,
              "#fb9f3a"
             ],
             [
              0.8888888888888888,
              "#fdca26"
             ],
             [
              1,
              "#f0f921"
             ]
            ],
            "type": "histogram2d"
           }
          ],
          "histogram2dcontour": [
           {
            "colorbar": {
             "outlinewidth": 0,
             "ticks": ""
            },
            "colorscale": [
             [
              0,
              "#0d0887"
             ],
             [
              0.1111111111111111,
              "#46039f"
             ],
             [
              0.2222222222222222,
              "#7201a8"
             ],
             [
              0.3333333333333333,
              "#9c179e"
             ],
             [
              0.4444444444444444,
              "#bd3786"
             ],
             [
              0.5555555555555556,
              "#d8576b"
             ],
             [
              0.6666666666666666,
              "#ed7953"
             ],
             [
              0.7777777777777778,
              "#fb9f3a"
             ],
             [
              0.8888888888888888,
              "#fdca26"
             ],
             [
              1,
              "#f0f921"
             ]
            ],
            "type": "histogram2dcontour"
           }
          ],
          "mesh3d": [
           {
            "colorbar": {
             "outlinewidth": 0,
             "ticks": ""
            },
            "type": "mesh3d"
           }
          ],
          "parcoords": [
           {
            "line": {
             "colorbar": {
              "outlinewidth": 0,
              "ticks": ""
             }
            },
            "type": "parcoords"
           }
          ],
          "pie": [
           {
            "automargin": true,
            "type": "pie"
           }
          ],
          "scatter": [
           {
            "fillpattern": {
             "fillmode": "overlay",
             "size": 10,
             "solidity": 0.2
            },
            "type": "scatter"
           }
          ],
          "scatter3d": [
           {
            "line": {
             "colorbar": {
              "outlinewidth": 0,
              "ticks": ""
             }
            },
            "marker": {
             "colorbar": {
              "outlinewidth": 0,
              "ticks": ""
             }
            },
            "type": "scatter3d"
           }
          ],
          "scattercarpet": [
           {
            "marker": {
             "colorbar": {
              "outlinewidth": 0,
              "ticks": ""
             }
            },
            "type": "scattercarpet"
           }
          ],
          "scattergeo": [
           {
            "marker": {
             "colorbar": {
              "outlinewidth": 0,
              "ticks": ""
             }
            },
            "type": "scattergeo"
           }
          ],
          "scattergl": [
           {
            "marker": {
             "colorbar": {
              "outlinewidth": 0,
              "ticks": ""
             }
            },
            "type": "scattergl"
           }
          ],
          "scattermapbox": [
           {
            "marker": {
             "colorbar": {
              "outlinewidth": 0,
              "ticks": ""
             }
            },
            "type": "scattermapbox"
           }
          ],
          "scatterpolar": [
           {
            "marker": {
             "colorbar": {
              "outlinewidth": 0,
              "ticks": ""
             }
            },
            "type": "scatterpolar"
           }
          ],
          "scatterpolargl": [
           {
            "marker": {
             "colorbar": {
              "outlinewidth": 0,
              "ticks": ""
             }
            },
            "type": "scatterpolargl"
           }
          ],
          "scatterternary": [
           {
            "marker": {
             "colorbar": {
              "outlinewidth": 0,
              "ticks": ""
             }
            },
            "type": "scatterternary"
           }
          ],
          "surface": [
           {
            "colorbar": {
             "outlinewidth": 0,
             "ticks": ""
            },
            "colorscale": [
             [
              0,
              "#0d0887"
             ],
             [
              0.1111111111111111,
              "#46039f"
             ],
             [
              0.2222222222222222,
              "#7201a8"
             ],
             [
              0.3333333333333333,
              "#9c179e"
             ],
             [
              0.4444444444444444,
              "#bd3786"
             ],
             [
              0.5555555555555556,
              "#d8576b"
             ],
             [
              0.6666666666666666,
              "#ed7953"
             ],
             [
              0.7777777777777778,
              "#fb9f3a"
             ],
             [
              0.8888888888888888,
              "#fdca26"
             ],
             [
              1,
              "#f0f921"
             ]
            ],
            "type": "surface"
           }
          ],
          "table": [
           {
            "cells": {
             "fill": {
              "color": "#EBF0F8"
             },
             "line": {
              "color": "white"
             }
            },
            "header": {
             "fill": {
              "color": "#C8D4E3"
             },
             "line": {
              "color": "white"
             }
            },
            "type": "table"
           }
          ]
         },
         "layout": {
          "annotationdefaults": {
           "arrowcolor": "#2a3f5f",
           "arrowhead": 0,
           "arrowwidth": 1
          },
          "autotypenumbers": "strict",
          "coloraxis": {
           "colorbar": {
            "outlinewidth": 0,
            "ticks": ""
           }
          },
          "colorscale": {
           "diverging": [
            [
             0,
             "#8e0152"
            ],
            [
             0.1,
             "#c51b7d"
            ],
            [
             0.2,
             "#de77ae"
            ],
            [
             0.3,
             "#f1b6da"
            ],
            [
             0.4,
             "#fde0ef"
            ],
            [
             0.5,
             "#f7f7f7"
            ],
            [
             0.6,
             "#e6f5d0"
            ],
            [
             0.7,
             "#b8e186"
            ],
            [
             0.8,
             "#7fbc41"
            ],
            [
             0.9,
             "#4d9221"
            ],
            [
             1,
             "#276419"
            ]
           ],
           "sequential": [
            [
             0,
             "#0d0887"
            ],
            [
             0.1111111111111111,
             "#46039f"
            ],
            [
             0.2222222222222222,
             "#7201a8"
            ],
            [
             0.3333333333333333,
             "#9c179e"
            ],
            [
             0.4444444444444444,
             "#bd3786"
            ],
            [
             0.5555555555555556,
             "#d8576b"
            ],
            [
             0.6666666666666666,
             "#ed7953"
            ],
            [
             0.7777777777777778,
             "#fb9f3a"
            ],
            [
             0.8888888888888888,
             "#fdca26"
            ],
            [
             1,
             "#f0f921"
            ]
           ],
           "sequentialminus": [
            [
             0,
             "#0d0887"
            ],
            [
             0.1111111111111111,
             "#46039f"
            ],
            [
             0.2222222222222222,
             "#7201a8"
            ],
            [
             0.3333333333333333,
             "#9c179e"
            ],
            [
             0.4444444444444444,
             "#bd3786"
            ],
            [
             0.5555555555555556,
             "#d8576b"
            ],
            [
             0.6666666666666666,
             "#ed7953"
            ],
            [
             0.7777777777777778,
             "#fb9f3a"
            ],
            [
             0.8888888888888888,
             "#fdca26"
            ],
            [
             1,
             "#f0f921"
            ]
           ]
          },
          "colorway": [
           "#636efa",
           "#EF553B",
           "#00cc96",
           "#ab63fa",
           "#FFA15A",
           "#19d3f3",
           "#FF6692",
           "#B6E880",
           "#FF97FF",
           "#FECB52"
          ],
          "font": {
           "color": "#2a3f5f"
          },
          "geo": {
           "bgcolor": "white",
           "lakecolor": "white",
           "landcolor": "white",
           "showlakes": true,
           "showland": true,
           "subunitcolor": "#C8D4E3"
          },
          "hoverlabel": {
           "align": "left"
          },
          "hovermode": "closest",
          "mapbox": {
           "style": "light"
          },
          "paper_bgcolor": "white",
          "plot_bgcolor": "white",
          "polar": {
           "angularaxis": {
            "gridcolor": "#EBF0F8",
            "linecolor": "#EBF0F8",
            "ticks": ""
           },
           "bgcolor": "white",
           "radialaxis": {
            "gridcolor": "#EBF0F8",
            "linecolor": "#EBF0F8",
            "ticks": ""
           }
          },
          "scene": {
           "xaxis": {
            "backgroundcolor": "white",
            "gridcolor": "#DFE8F3",
            "gridwidth": 2,
            "linecolor": "#EBF0F8",
            "showbackground": true,
            "ticks": "",
            "zerolinecolor": "#EBF0F8"
           },
           "yaxis": {
            "backgroundcolor": "white",
            "gridcolor": "#DFE8F3",
            "gridwidth": 2,
            "linecolor": "#EBF0F8",
            "showbackground": true,
            "ticks": "",
            "zerolinecolor": "#EBF0F8"
           },
           "zaxis": {
            "backgroundcolor": "white",
            "gridcolor": "#DFE8F3",
            "gridwidth": 2,
            "linecolor": "#EBF0F8",
            "showbackground": true,
            "ticks": "",
            "zerolinecolor": "#EBF0F8"
           }
          },
          "shapedefaults": {
           "line": {
            "color": "#2a3f5f"
           }
          },
          "ternary": {
           "aaxis": {
            "gridcolor": "#DFE8F3",
            "linecolor": "#A2B1C6",
            "ticks": ""
           },
           "baxis": {
            "gridcolor": "#DFE8F3",
            "linecolor": "#A2B1C6",
            "ticks": ""
           },
           "bgcolor": "white",
           "caxis": {
            "gridcolor": "#DFE8F3",
            "linecolor": "#A2B1C6",
            "ticks": ""
           }
          },
          "title": {
           "x": 0.05
          },
          "xaxis": {
           "automargin": true,
           "gridcolor": "#EBF0F8",
           "linecolor": "#EBF0F8",
           "ticks": "",
           "title": {
            "standoff": 15
           },
           "zerolinecolor": "#EBF0F8",
           "zerolinewidth": 2
          },
          "yaxis": {
           "automargin": true,
           "gridcolor": "#EBF0F8",
           "linecolor": "#EBF0F8",
           "ticks": "",
           "title": {
            "standoff": 15
           },
           "zerolinecolor": "#EBF0F8",
           "zerolinewidth": 2
          }
         }
        },
        "title": {
         "text": "sPHENIX Internal, Run24 AuAu, TPC [ADC Hit vs drift time]'s Exponential Decay Constant"
        },
        "xaxis": {
         "anchor": "y",
         "domain": [
          0,
          1
         ],
         "tickformat": "d",
         "title": {
          "text": "Run Number"
         }
        },
        "yaxis": {
         "anchor": "x",
         "domain": [
          0,
          1
         ],
         "range": [
          0,
          300
         ],
         "title": {
          "text": "Decay Constant [50ns]"
         }
        }
       }
      },
      "text/html": [
       "<div>                            <div id=\"d3ddcf73-8801-4861-9cfc-cc4ee2d4ee2e\" class=\"plotly-graph-div\" style=\"height:800px; width:100%;\"></div>            <script type=\"text/javascript\">                require([\"plotly\"], function(Plotly) {                    window.PLOTLYENV=window.PLOTLYENV || {};                                    if (document.getElementById(\"d3ddcf73-8801-4861-9cfc-cc4ee2d4ee2e\")) {                    Plotly.newPlot(                        \"d3ddcf73-8801-4861-9cfc-cc4ee2d4ee2e\",                        [{\"error_y\":{\"array\":[0.18777585783874862,0.2803717145751968,0.21681532012334276,0.20275579381180153,0.22356607662880373,0.8013676690260415,0.9375595978483142,0.982370133977429,0.8911368885796003,1.0567307943674276,0.401245187553218,0.5257912122073608,0.433893196740354,0.5273415734147907,0.5205535033384182,1.9989696926322231,1.263733428538075,0.6841659401241318,0.7277280403531035,0.5574781457128972,0.6609794950079361,0.7244288836571998,0.6554133958241474,1.1359943791492804,1.3783516154108497,0.4186579098326053,0.6993991120850238,0.5191318200952788,0.490181629413387,0.40937412402942674,0.3252013483110608,0.4203676441556304,0.3974807032036746,0.43710395307658767,0.40590022065142883,1.371792933007753,1.197782695185481,1.768552494045948,1.3322492753065618,2.455536022919744,0.6441149892086139,0.8596122354255441,0.6756186448336429,0.9394653805792875,0.6125523177518242,0.6796086771587121,0.9099223745331178,0.5929943563015294,0.5782360131940127,0.6129983736282308,0.826603369847165,0.9089091556071258,0.9127435989374025,0.6924937586472902,0.6464742038037562,0.45706497594324674,0.5992517449235024,0.5880075412692686,0.5479513879510478,0.7609121040984701,0.46597396285507553,0.44773137184161726,0.7036507664162979,1.0469556403193052,0.8456789495408833,0.8666512317870918,0.947316639076633,1.0869442977923887,0.8869821985490794,0.7538104695123933,0.6936308714754633,1.5437067651148442,0.9432143489385674,9.061568024764528,5.414205803262891,1.572352615307232,11.577955735729867,1.4479576016312186,14.561870392423678,10.894826768933502,37.237215413302934,1.1896775728924047,34.36409648047531,0.4865784592373296,0.7575711904324218,0.6236458106637935,0.5586536013113385,0.642629578497783,0.2285037115544591,0.2898774683695789,0.26886455837526246,0.2666212553260745,0.26855947585057066,0.25366131000747383,0.27756295776278134,0.3078542627633887,0.2618964289784329,0.3162588868398017,0.7961634481850539,0.9523652886756016,0.6430771509991923,0.8402250627601577,1.182303592767372,0.2676300340831497,0.29058763679693894,0.3201446189587628,0.2904890542515002,0.30080958262179514,0.22225739817619783,0.23825439455980862,0.2705651529345071,0.24212602786409368,0.29608489068476346,0.41357632163884656,0.41163693908462096,0.369492274429924,0.3765135245853311,0.42993172656231143,0.6031789644975655,0.6736259042015921,0.6849954310493259,0.6253125590262936,0.5910184700582432,0.2260579350589168,0.2564436065202944,0.25356690128626447,0.24172643294742927,0.21723538092627903]},\"hovertemplate\":\"Run Number=%{x}<br>Decay Constant [50ns]=%{y}<br>Sector=%{marker.color}<extra></extra>\",\"legendgroup\":\"\",\"marker\":{\"color\":[12,18,2,6,9,12,18,2,6,9,12,18,2,6,9,12,2,12,18,2,6,9,12,18,6,12,18,2,6,9,12,18,2,6,9,12,18,2,6,9,12,18,2,6,9,12,18,2,6,9,12,18,9,12,18,2,6,9,12,18,2,6,9,12,18,2,6,9,12,18,2,6,9,12,18,2,6,9,12,18,2,6,9,12,18,2,6,9,12,18,2,6,9,12,18,2,6,9,12,18,2,6,9,12,18,2,6,9,12,18,2,6,9,12,18,2,6,9,12,18,2,6,9,12,18,2,6,9],\"coloraxis\":\"coloraxis\",\"symbol\":\"circle\"},\"mode\":\"markers\",\"name\":\"\",\"orientation\":\"v\",\"showlegend\":false,\"x\":[54873,54873,54873,54873,54873,54896,54896,54896,54896,54896,54897,54897,54897,54897,54897,54898,54898,54908,54908,54908,54908,54908,54746,54746,54746,54747,54747,54747,54747,54747,54748,54748,54748,54748,54748,54816,54816,54816,54816,54816,54849,54849,54849,54849,54849,54850,54850,54850,54850,54850,54851,54851,54851,54852,54852,54852,54852,54852,54853,54853,54853,54853,54853,54857,54857,54857,54857,54857,54858,54858,54858,54858,54858,54859,54859,54859,54859,54859,54860,54860,54860,54860,54860,54861,54861,54861,54861,54861,54862,54862,54862,54862,54862,54863,54863,54863,54863,54863,54864,54864,54864,54864,54864,54865,54865,54865,54865,54865,54866,54866,54866,54866,54866,54867,54867,54867,54867,54867,54871,54871,54871,54871,54871,54872,54872,54872,54872,54872],\"xaxis\":\"x\",\"y\":[137.62993010302546,130.9679043835444,130.67286553615207,131.45321560882897,137.67803990296306,155.55744292150914,139.32762557761882,161.28589095817668,157.91038442688182,173.85089473514654,153.43102918770575,142.58678279260246,153.9951908855472,162.91591374717848,161.18039983737884,41.062319210290084,19.758834173687067,183.12212229837,142.3771118295432,155.4778929580405,166.85054533508924,169.90812035215976,132.6508428546902,142.06507187911276,157.56307755282484,142.8998911450852,151.40189014722932,151.07071757999609,141.39215816640342,140.30448258024865,141.76184327277866,133.5075257145567,147.3711398332351,145.04589955063358,152.55835854031943,176.6801861312829,153.97192847278993,186.50780135719785,174.78483889852578,208.06348621775243,143.07481332115103,141.34110068157705,144.64124648172603,136.1331443256271,133.64782085177853,154.20977083251776,152.48169191101468,140.2822825181662,136.81357758986192,140.50515304376563,148.35098997476277,129.23353641508533,143.45209268176407,160.02139834835597,152.36253011069925,136.96847943679745,147.21728307193183,137.9292039869593,144.0276491655451,164.72864972376217,140.44039453634474,131.30628017788834,151.65343557374572,161.4294639001708,142.54483853176677,154.10010018683607,135.94890415245635,155.43889301179615,147.59296592933305,137.32731457933542,136.59488027632779,176.44810573502605,140.57254243507236,610.8740957062112,459.15034625601623,1372.8834017843965,622.5516167474785,1598.5559427895491,812.0342247896149,674.223013384215,2432.485041918738,1206.637491352389,3781.242280828704,132.28765984353322,131.78275626580717,131.72104052540772,131.3989855676953,139.27409701549425,147.02291908964767,134.1968940859783,142.09786711147862,144.67216226298817,145.09437976861102,145.09852614362876,129.2359930649831,147.04834024175406,139.26500582575682,150.66408963364734,146.60941917410656,139.62834133095558,135.59875417531737,149.05622169322717,164.5098389225147,149.8793961775395,131.60682698214134,143.787522681972,141.00714153292583,146.27464195529785,146.26067514148863,137.76807939338332,145.74691585318035,138.2135217258161,152.5165075527073,151.4485985980828,135.84404095586544,137.01311260068897,141.33946383411126,150.01312657789916,152.5110132608178,153.32042900738594,142.34512298529626,142.85678981618804,152.87381674218815,142.92718799005448,131.85559191504555,135.36669787830957,140.6441035716219,136.06347493000376],\"yaxis\":\"y\",\"type\":\"scatter\"}],                        {\"template\":{\"data\":{\"barpolar\":[{\"marker\":{\"line\":{\"color\":\"white\",\"width\":0.5},\"pattern\":{\"fillmode\":\"overlay\",\"size\":10,\"solidity\":0.2}},\"type\":\"barpolar\"}],\"bar\":[{\"error_x\":{\"color\":\"#2a3f5f\"},\"error_y\":{\"color\":\"#2a3f5f\"},\"marker\":{\"line\":{\"color\":\"white\",\"width\":0.5},\"pattern\":{\"fillmode\":\"overlay\",\"size\":10,\"solidity\":0.2}},\"type\":\"bar\"}],\"carpet\":[{\"aaxis\":{\"endlinecolor\":\"#2a3f5f\",\"gridcolor\":\"#C8D4E3\",\"linecolor\":\"#C8D4E3\",\"minorgridcolor\":\"#C8D4E3\",\"startlinecolor\":\"#2a3f5f\"},\"baxis\":{\"endlinecolor\":\"#2a3f5f\",\"gridcolor\":\"#C8D4E3\",\"linecolor\":\"#C8D4E3\",\"minorgridcolor\":\"#C8D4E3\",\"startlinecolor\":\"#2a3f5f\"},\"type\":\"carpet\"}],\"choropleth\":[{\"colorbar\":{\"outlinewidth\":0,\"ticks\":\"\"},\"type\":\"choropleth\"}],\"contourcarpet\":[{\"colorbar\":{\"outlinewidth\":0,\"ticks\":\"\"},\"type\":\"contourcarpet\"}],\"contour\":[{\"colorbar\":{\"outlinewidth\":0,\"ticks\":\"\"},\"colorscale\":[[0.0,\"#0d0887\"],[0.1111111111111111,\"#46039f\"],[0.2222222222222222,\"#7201a8\"],[0.3333333333333333,\"#9c179e\"],[0.4444444444444444,\"#bd3786\"],[0.5555555555555556,\"#d8576b\"],[0.6666666666666666,\"#ed7953\"],[0.7777777777777778,\"#fb9f3a\"],[0.8888888888888888,\"#fdca26\"],[1.0,\"#f0f921\"]],\"type\":\"contour\"}],\"heatmapgl\":[{\"colorbar\":{\"outlinewidth\":0,\"ticks\":\"\"},\"colorscale\":[[0.0,\"#0d0887\"],[0.1111111111111111,\"#46039f\"],[0.2222222222222222,\"#7201a8\"],[0.3333333333333333,\"#9c179e\"],[0.4444444444444444,\"#bd3786\"],[0.5555555555555556,\"#d8576b\"],[0.6666666666666666,\"#ed7953\"],[0.7777777777777778,\"#fb9f3a\"],[0.8888888888888888,\"#fdca26\"],[1.0,\"#f0f921\"]],\"type\":\"heatmapgl\"}],\"heatmap\":[{\"colorbar\":{\"outlinewidth\":0,\"ticks\":\"\"},\"colorscale\":[[0.0,\"#0d0887\"],[0.1111111111111111,\"#46039f\"],[0.2222222222222222,\"#7201a8\"],[0.3333333333333333,\"#9c179e\"],[0.4444444444444444,\"#bd3786\"],[0.5555555555555556,\"#d8576b\"],[0.6666666666666666,\"#ed7953\"],[0.7777777777777778,\"#fb9f3a\"],[0.8888888888888888,\"#fdca26\"],[1.0,\"#f0f921\"]],\"type\":\"heatmap\"}],\"histogram2dcontour\":[{\"colorbar\":{\"outlinewidth\":0,\"ticks\":\"\"},\"colorscale\":[[0.0,\"#0d0887\"],[0.1111111111111111,\"#46039f\"],[0.2222222222222222,\"#7201a8\"],[0.3333333333333333,\"#9c179e\"],[0.4444444444444444,\"#bd3786\"],[0.5555555555555556,\"#d8576b\"],[0.6666666666666666,\"#ed7953\"],[0.7777777777777778,\"#fb9f3a\"],[0.8888888888888888,\"#fdca26\"],[1.0,\"#f0f921\"]],\"type\":\"histogram2dcontour\"}],\"histogram2d\":[{\"colorbar\":{\"outlinewidth\":0,\"ticks\":\"\"},\"colorscale\":[[0.0,\"#0d0887\"],[0.1111111111111111,\"#46039f\"],[0.2222222222222222,\"#7201a8\"],[0.3333333333333333,\"#9c179e\"],[0.4444444444444444,\"#bd3786\"],[0.5555555555555556,\"#d8576b\"],[0.6666666666666666,\"#ed7953\"],[0.7777777777777778,\"#fb9f3a\"],[0.8888888888888888,\"#fdca26\"],[1.0,\"#f0f921\"]],\"type\":\"histogram2d\"}],\"histogram\":[{\"marker\":{\"pattern\":{\"fillmode\":\"overlay\",\"size\":10,\"solidity\":0.2}},\"type\":\"histogram\"}],\"mesh3d\":[{\"colorbar\":{\"outlinewidth\":0,\"ticks\":\"\"},\"type\":\"mesh3d\"}],\"parcoords\":[{\"line\":{\"colorbar\":{\"outlinewidth\":0,\"ticks\":\"\"}},\"type\":\"parcoords\"}],\"pie\":[{\"automargin\":true,\"type\":\"pie\"}],\"scatter3d\":[{\"line\":{\"colorbar\":{\"outlinewidth\":0,\"ticks\":\"\"}},\"marker\":{\"colorbar\":{\"outlinewidth\":0,\"ticks\":\"\"}},\"type\":\"scatter3d\"}],\"scattercarpet\":[{\"marker\":{\"colorbar\":{\"outlinewidth\":0,\"ticks\":\"\"}},\"type\":\"scattercarpet\"}],\"scattergeo\":[{\"marker\":{\"colorbar\":{\"outlinewidth\":0,\"ticks\":\"\"}},\"type\":\"scattergeo\"}],\"scattergl\":[{\"marker\":{\"colorbar\":{\"outlinewidth\":0,\"ticks\":\"\"}},\"type\":\"scattergl\"}],\"scattermapbox\":[{\"marker\":{\"colorbar\":{\"outlinewidth\":0,\"ticks\":\"\"}},\"type\":\"scattermapbox\"}],\"scatterpolargl\":[{\"marker\":{\"colorbar\":{\"outlinewidth\":0,\"ticks\":\"\"}},\"type\":\"scatterpolargl\"}],\"scatterpolar\":[{\"marker\":{\"colorbar\":{\"outlinewidth\":0,\"ticks\":\"\"}},\"type\":\"scatterpolar\"}],\"scatter\":[{\"fillpattern\":{\"fillmode\":\"overlay\",\"size\":10,\"solidity\":0.2},\"type\":\"scatter\"}],\"scatterternary\":[{\"marker\":{\"colorbar\":{\"outlinewidth\":0,\"ticks\":\"\"}},\"type\":\"scatterternary\"}],\"surface\":[{\"colorbar\":{\"outlinewidth\":0,\"ticks\":\"\"},\"colorscale\":[[0.0,\"#0d0887\"],[0.1111111111111111,\"#46039f\"],[0.2222222222222222,\"#7201a8\"],[0.3333333333333333,\"#9c179e\"],[0.4444444444444444,\"#bd3786\"],[0.5555555555555556,\"#d8576b\"],[0.6666666666666666,\"#ed7953\"],[0.7777777777777778,\"#fb9f3a\"],[0.8888888888888888,\"#fdca26\"],[1.0,\"#f0f921\"]],\"type\":\"surface\"}],\"table\":[{\"cells\":{\"fill\":{\"color\":\"#EBF0F8\"},\"line\":{\"color\":\"white\"}},\"header\":{\"fill\":{\"color\":\"#C8D4E3\"},\"line\":{\"color\":\"white\"}},\"type\":\"table\"}]},\"layout\":{\"annotationdefaults\":{\"arrowcolor\":\"#2a3f5f\",\"arrowhead\":0,\"arrowwidth\":1},\"autotypenumbers\":\"strict\",\"coloraxis\":{\"colorbar\":{\"outlinewidth\":0,\"ticks\":\"\"}},\"colorscale\":{\"diverging\":[[0,\"#8e0152\"],[0.1,\"#c51b7d\"],[0.2,\"#de77ae\"],[0.3,\"#f1b6da\"],[0.4,\"#fde0ef\"],[0.5,\"#f7f7f7\"],[0.6,\"#e6f5d0\"],[0.7,\"#b8e186\"],[0.8,\"#7fbc41\"],[0.9,\"#4d9221\"],[1,\"#276419\"]],\"sequential\":[[0.0,\"#0d0887\"],[0.1111111111111111,\"#46039f\"],[0.2222222222222222,\"#7201a8\"],[0.3333333333333333,\"#9c179e\"],[0.4444444444444444,\"#bd3786\"],[0.5555555555555556,\"#d8576b\"],[0.6666666666666666,\"#ed7953\"],[0.7777777777777778,\"#fb9f3a\"],[0.8888888888888888,\"#fdca26\"],[1.0,\"#f0f921\"]],\"sequentialminus\":[[0.0,\"#0d0887\"],[0.1111111111111111,\"#46039f\"],[0.2222222222222222,\"#7201a8\"],[0.3333333333333333,\"#9c179e\"],[0.4444444444444444,\"#bd3786\"],[0.5555555555555556,\"#d8576b\"],[0.6666666666666666,\"#ed7953\"],[0.7777777777777778,\"#fb9f3a\"],[0.8888888888888888,\"#fdca26\"],[1.0,\"#f0f921\"]]},\"colorway\":[\"#636efa\",\"#EF553B\",\"#00cc96\",\"#ab63fa\",\"#FFA15A\",\"#19d3f3\",\"#FF6692\",\"#B6E880\",\"#FF97FF\",\"#FECB52\"],\"font\":{\"color\":\"#2a3f5f\"},\"geo\":{\"bgcolor\":\"white\",\"lakecolor\":\"white\",\"landcolor\":\"white\",\"showlakes\":true,\"showland\":true,\"subunitcolor\":\"#C8D4E3\"},\"hoverlabel\":{\"align\":\"left\"},\"hovermode\":\"closest\",\"mapbox\":{\"style\":\"light\"},\"paper_bgcolor\":\"white\",\"plot_bgcolor\":\"white\",\"polar\":{\"angularaxis\":{\"gridcolor\":\"#EBF0F8\",\"linecolor\":\"#EBF0F8\",\"ticks\":\"\"},\"bgcolor\":\"white\",\"radialaxis\":{\"gridcolor\":\"#EBF0F8\",\"linecolor\":\"#EBF0F8\",\"ticks\":\"\"}},\"scene\":{\"xaxis\":{\"backgroundcolor\":\"white\",\"gridcolor\":\"#DFE8F3\",\"gridwidth\":2,\"linecolor\":\"#EBF0F8\",\"showbackground\":true,\"ticks\":\"\",\"zerolinecolor\":\"#EBF0F8\"},\"yaxis\":{\"backgroundcolor\":\"white\",\"gridcolor\":\"#DFE8F3\",\"gridwidth\":2,\"linecolor\":\"#EBF0F8\",\"showbackground\":true,\"ticks\":\"\",\"zerolinecolor\":\"#EBF0F8\"},\"zaxis\":{\"backgroundcolor\":\"white\",\"gridcolor\":\"#DFE8F3\",\"gridwidth\":2,\"linecolor\":\"#EBF0F8\",\"showbackground\":true,\"ticks\":\"\",\"zerolinecolor\":\"#EBF0F8\"}},\"shapedefaults\":{\"line\":{\"color\":\"#2a3f5f\"}},\"ternary\":{\"aaxis\":{\"gridcolor\":\"#DFE8F3\",\"linecolor\":\"#A2B1C6\",\"ticks\":\"\"},\"baxis\":{\"gridcolor\":\"#DFE8F3\",\"linecolor\":\"#A2B1C6\",\"ticks\":\"\"},\"bgcolor\":\"white\",\"caxis\":{\"gridcolor\":\"#DFE8F3\",\"linecolor\":\"#A2B1C6\",\"ticks\":\"\"}},\"title\":{\"x\":0.05},\"xaxis\":{\"automargin\":true,\"gridcolor\":\"#EBF0F8\",\"linecolor\":\"#EBF0F8\",\"ticks\":\"\",\"title\":{\"standoff\":15},\"zerolinecolor\":\"#EBF0F8\",\"zerolinewidth\":2},\"yaxis\":{\"automargin\":true,\"gridcolor\":\"#EBF0F8\",\"linecolor\":\"#EBF0F8\",\"ticks\":\"\",\"title\":{\"standoff\":15},\"zerolinecolor\":\"#EBF0F8\",\"zerolinewidth\":2}}},\"xaxis\":{\"anchor\":\"y\",\"domain\":[0.0,1.0],\"title\":{\"text\":\"Run Number\"},\"tickformat\":\"d\"},\"yaxis\":{\"anchor\":\"x\",\"domain\":[0.0,1.0],\"title\":{\"text\":\"Decay Constant [50ns]\"},\"range\":[0,300]},\"coloraxis\":{\"colorbar\":{\"title\":{\"text\":\"Sector\"}},\"colorscale\":[[0.0,\"#0d0887\"],[0.1111111111111111,\"#46039f\"],[0.2222222222222222,\"#7201a8\"],[0.3333333333333333,\"#9c179e\"],[0.4444444444444444,\"#bd3786\"],[0.5555555555555556,\"#d8576b\"],[0.6666666666666666,\"#ed7953\"],[0.7777777777777778,\"#fb9f3a\"],[0.8888888888888888,\"#fdca26\"],[1.0,\"#f0f921\"]]},\"legend\":{\"tracegroupgap\":0},\"title\":{\"text\":\"sPHENIX Internal, Run24 AuAu, TPC [ADC Hit vs drift time]'s Exponential Decay Constant\"},\"height\":800},                        {\"responsive\": true}                    ).then(function(){\n",
       "                            \n",
       "var gd = document.getElementById('d3ddcf73-8801-4861-9cfc-cc4ee2d4ee2e');\n",
       "var x = new MutationObserver(function (mutations, observer) {{\n",
       "        var display = window.getComputedStyle(gd).display;\n",
       "        if (!display || display === 'none') {{\n",
       "            console.log([gd, 'removed!']);\n",
       "            Plotly.purge(gd);\n",
       "            observer.disconnect();\n",
       "        }}\n",
       "}});\n",
       "\n",
       "// Listen for the removal of the full notebook cells\n",
       "var notebookContainer = gd.closest('#notebook-container');\n",
       "if (notebookContainer) {{\n",
       "    x.observe(notebookContainer, {childList: true});\n",
       "}}\n",
       "\n",
       "// Listen for the clearing of the current output cell\n",
       "var outputEl = gd.closest('.output');\n",
       "if (outputEl) {{\n",
       "    x.observe(outputEl, {childList: true});\n",
       "}}\n",
       "\n",
       "                        })                };                });            </script>        </div>"
      ]
     },
     "metadata": {},
     "output_type": "display_data"
    }
   ],
   "source": [
    "\n",
    "fig = px.scatter(df, x=\"Run Number\", y=\"Decay Constant [50ns]\", error_y=\"Decay Constant Error\", \n",
    "                 color=\"Sector\", labels={\"Sector\": \"Sector\"},\n",
    "                 title=\"sPHENIX Internal, Run24 AuAu, TPC [ADC Hit vs drift time]'s Exponential Decay Constant\"\n",
    "                 , height=800)\n",
    "fig.update_xaxes(tickformat=\"d\")\n",
    "fig.update_layout(yaxis=dict(range=[0, 300]))\n",
    "\n",
    "fig.show()"
   ]
  },
  {
   "cell_type": "code",
   "execution_count": null,
   "id": "dabf0812",
   "metadata": {},
   "outputs": [],
   "source": []
  }
 ],
 "metadata": {
  "kernelspec": {
   "display_name": "Python (sPHENIX)",
   "language": "python",
   "name": "sphenix-python"
  },
  "language_info": {
   "codemirror_mode": {
    "name": "ipython",
    "version": 3
   },
   "file_extension": ".py",
   "mimetype": "text/x-python",
   "name": "python",
   "nbconvert_exporter": "python",
   "pygments_lexer": "ipython3",
   "version": "3.10.8"
  }
 },
 "nbformat": 4,
 "nbformat_minor": 5
}
